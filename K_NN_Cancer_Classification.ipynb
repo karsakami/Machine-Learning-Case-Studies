{
  "nbformat": 4,
  "nbformat_minor": 0,
  "metadata": {
    "colab": {
      "provenance": [],
      "authorship_tag": "ABX9TyNOz/Pc2S3fq6JGdFT946dc",
      "include_colab_link": true
    },
    "kernelspec": {
      "name": "python3",
      "display_name": "Python 3"
    },
    "language_info": {
      "name": "python"
    }
  },
  "cells": [
    {
      "cell_type": "markdown",
      "metadata": {
        "id": "view-in-github",
        "colab_type": "text"
      },
      "source": [
        "<a href=\"https://colab.research.google.com/github/karsakami/Machine-Learning-Case-Studies/blob/main/K_NN_Cancer_Classification.ipynb\" target=\"_parent\"><img src=\"https://colab.research.google.com/assets/colab-badge.svg\" alt=\"Open In Colab\"/></a>"
      ]
    },
    {
      "cell_type": "markdown",
      "source": [
        "## **KNN** \n",
        "\n",
        "The algorithm assumes that similar things exist in close proximity. For the example - there is high probability that you have same interest as your friends, there is high probability that you are vegetarian if your whole family is vege, that is high proabability that you speak french if your classmates are french\n",
        "\n",
        "\n",
        "The implementation of the algorithm goes by:\n",
        "\n",
        "1. Loading and cleaning the data\n",
        "2. Initializing the k to your chosen number of neighbors\n",
        "\n",
        "---\n",
        "\n",
        "\n"
      ],
      "metadata": {
        "id": "NbOogOQ0k45J"
      }
    },
    {
      "cell_type": "markdown",
      "source": [
        "# Predicting Breast Cancer\n",
        "\n",
        "Data is from UCI repo. We will be training K-Neighbor (KNN) algorithm to predict whether a cell is benign or malignant"
      ],
      "metadata": {
        "id": "Ao95OW13Nqh6"
      }
    },
    {
      "cell_type": "markdown",
      "source": [
        "### Cleaning & Analysis"
      ],
      "metadata": {
        "id": "DB6IJonCalgz"
      }
    },
    {
      "cell_type": "code",
      "execution_count": 26,
      "metadata": {
        "id": "I-aLIrT9koar"
      },
      "outputs": [],
      "source": [
        "import pyforest"
      ]
    },
    {
      "cell_type": "code",
      "source": [
        "df = pd.read_csv(\"wisc_bc_data.csv\")"
      ],
      "metadata": {
        "id": "QOok64A6O3fX",
        "colab": {
          "base_uri": "https://localhost:8080/",
          "height": 17
        },
        "outputId": "78110475-be8c-437e-ef5f-26d2322e14c9"
      },
      "execution_count": 27,
      "outputs": [
        {
          "output_type": "display_data",
          "data": {
            "text/plain": [
              "<IPython.core.display.Javascript object>"
            ],
            "application/javascript": [
              "\n",
              "        if (window._pyforest_update_imports_cell) { window._pyforest_update_imports_cell('import pandas as pd'); }\n",
              "    "
            ]
          },
          "metadata": {}
        }
      ]
    },
    {
      "cell_type": "markdown",
      "source": [
        "Diagnosis is our target here ($y$), rest is independent values ($x$).\n",
        "\n",
        "**B** - not cancerious\n",
        "\n",
        "**M** - cancerious\n"
      ],
      "metadata": {
        "id": "AthFwniuevZu"
      }
    },
    {
      "cell_type": "markdown",
      "source": [
        "Look at the data"
      ],
      "metadata": {
        "id": "a1irMhGM_WXu"
      }
    },
    {
      "cell_type": "code",
      "source": [
        "df.head(10)"
      ],
      "metadata": {
        "colab": {
          "base_uri": "https://localhost:8080/",
          "height": 474
        },
        "id": "H0AQz9ybPj_R",
        "outputId": "76fe8948-8d90-451a-f492-925accd21e6e"
      },
      "execution_count": 28,
      "outputs": [
        {
          "output_type": "execute_result",
          "data": {
            "text/plain": [
              "         id diagnosis  radius_mean  texture_mean  perimeter_mean  area_mean  \\\n",
              "0    842302         M        17.99         10.38          122.80     1001.0   \n",
              "1    842517         M        20.57         17.77          132.90     1326.0   \n",
              "2  84300903         M        19.69         21.25          130.00     1203.0   \n",
              "3  84348301         M        11.42         20.38           77.58      386.1   \n",
              "4  84358402         M        20.29         14.34          135.10     1297.0   \n",
              "5    843786         M        12.45         15.70           82.57      477.1   \n",
              "6    844359         M        18.25         19.98          119.60     1040.0   \n",
              "7  84458202         M        13.71         20.83           90.20      577.9   \n",
              "8    844981         M        13.00         21.82           87.50      519.8   \n",
              "9  84501001         M        12.46         24.04           83.97      475.9   \n",
              "\n",
              "   smoothness_mean  compactness_mean  concavity_mean  concave points_mean  \\\n",
              "0          0.11840           0.27760         0.30010              0.14710   \n",
              "1          0.08474           0.07864         0.08690              0.07017   \n",
              "2          0.10960           0.15990         0.19740              0.12790   \n",
              "3          0.14250           0.28390         0.24140              0.10520   \n",
              "4          0.10030           0.13280         0.19800              0.10430   \n",
              "5          0.12780           0.17000         0.15780              0.08089   \n",
              "6          0.09463           0.10900         0.11270              0.07400   \n",
              "7          0.11890           0.16450         0.09366              0.05985   \n",
              "8          0.12730           0.19320         0.18590              0.09353   \n",
              "9          0.11860           0.23960         0.22730              0.08543   \n",
              "\n",
              "   ...  radius_worst  texture_worst  perimeter_worst  area_worst  \\\n",
              "0  ...         25.38          17.33           184.60      2019.0   \n",
              "1  ...         24.99          23.41           158.80      1956.0   \n",
              "2  ...         23.57          25.53           152.50      1709.0   \n",
              "3  ...         14.91          26.50            98.87       567.7   \n",
              "4  ...         22.54          16.67           152.20      1575.0   \n",
              "5  ...         15.47          23.75           103.40       741.6   \n",
              "6  ...         22.88          27.66           153.20      1606.0   \n",
              "7  ...         17.06          28.14           110.60       897.0   \n",
              "8  ...         15.49          30.73           106.20       739.3   \n",
              "9  ...         15.09          40.68            97.65       711.4   \n",
              "\n",
              "   smoothness_worst  compactness_worst  concavity_worst  concave points_worst  \\\n",
              "0            0.1622             0.6656           0.7119                0.2654   \n",
              "1            0.1238             0.1866           0.2416                0.1860   \n",
              "2            0.1444             0.4245           0.4504                0.2430   \n",
              "3            0.2098             0.8663           0.6869                0.2575   \n",
              "4            0.1374             0.2050           0.4000                0.1625   \n",
              "5            0.1791             0.5249           0.5355                0.1741   \n",
              "6            0.1442             0.2576           0.3784                0.1932   \n",
              "7            0.1654             0.3682           0.2678                0.1556   \n",
              "8            0.1703             0.5401           0.5390                0.2060   \n",
              "9            0.1853             1.0580           1.1050                0.2210   \n",
              "\n",
              "   symmetry_worst  fractal_dimension_worst  \n",
              "0          0.4601                  0.11890  \n",
              "1          0.2750                  0.08902  \n",
              "2          0.3613                  0.08758  \n",
              "3          0.6638                  0.17300  \n",
              "4          0.2364                  0.07678  \n",
              "5          0.3985                  0.12440  \n",
              "6          0.3063                  0.08368  \n",
              "7          0.3196                  0.11510  \n",
              "8          0.4378                  0.10720  \n",
              "9          0.4366                  0.20750  \n",
              "\n",
              "[10 rows x 32 columns]"
            ],
            "text/html": [
              "\n",
              "  <div id=\"df-878a08c7-01d3-46be-afbd-42ea1dcd106e\">\n",
              "    <div class=\"colab-df-container\">\n",
              "      <div>\n",
              "<style scoped>\n",
              "    .dataframe tbody tr th:only-of-type {\n",
              "        vertical-align: middle;\n",
              "    }\n",
              "\n",
              "    .dataframe tbody tr th {\n",
              "        vertical-align: top;\n",
              "    }\n",
              "\n",
              "    .dataframe thead th {\n",
              "        text-align: right;\n",
              "    }\n",
              "</style>\n",
              "<table border=\"1\" class=\"dataframe\">\n",
              "  <thead>\n",
              "    <tr style=\"text-align: right;\">\n",
              "      <th></th>\n",
              "      <th>id</th>\n",
              "      <th>diagnosis</th>\n",
              "      <th>radius_mean</th>\n",
              "      <th>texture_mean</th>\n",
              "      <th>perimeter_mean</th>\n",
              "      <th>area_mean</th>\n",
              "      <th>smoothness_mean</th>\n",
              "      <th>compactness_mean</th>\n",
              "      <th>concavity_mean</th>\n",
              "      <th>concave points_mean</th>\n",
              "      <th>...</th>\n",
              "      <th>radius_worst</th>\n",
              "      <th>texture_worst</th>\n",
              "      <th>perimeter_worst</th>\n",
              "      <th>area_worst</th>\n",
              "      <th>smoothness_worst</th>\n",
              "      <th>compactness_worst</th>\n",
              "      <th>concavity_worst</th>\n",
              "      <th>concave points_worst</th>\n",
              "      <th>symmetry_worst</th>\n",
              "      <th>fractal_dimension_worst</th>\n",
              "    </tr>\n",
              "  </thead>\n",
              "  <tbody>\n",
              "    <tr>\n",
              "      <th>0</th>\n",
              "      <td>842302</td>\n",
              "      <td>M</td>\n",
              "      <td>17.99</td>\n",
              "      <td>10.38</td>\n",
              "      <td>122.80</td>\n",
              "      <td>1001.0</td>\n",
              "      <td>0.11840</td>\n",
              "      <td>0.27760</td>\n",
              "      <td>0.30010</td>\n",
              "      <td>0.14710</td>\n",
              "      <td>...</td>\n",
              "      <td>25.38</td>\n",
              "      <td>17.33</td>\n",
              "      <td>184.60</td>\n",
              "      <td>2019.0</td>\n",
              "      <td>0.1622</td>\n",
              "      <td>0.6656</td>\n",
              "      <td>0.7119</td>\n",
              "      <td>0.2654</td>\n",
              "      <td>0.4601</td>\n",
              "      <td>0.11890</td>\n",
              "    </tr>\n",
              "    <tr>\n",
              "      <th>1</th>\n",
              "      <td>842517</td>\n",
              "      <td>M</td>\n",
              "      <td>20.57</td>\n",
              "      <td>17.77</td>\n",
              "      <td>132.90</td>\n",
              "      <td>1326.0</td>\n",
              "      <td>0.08474</td>\n",
              "      <td>0.07864</td>\n",
              "      <td>0.08690</td>\n",
              "      <td>0.07017</td>\n",
              "      <td>...</td>\n",
              "      <td>24.99</td>\n",
              "      <td>23.41</td>\n",
              "      <td>158.80</td>\n",
              "      <td>1956.0</td>\n",
              "      <td>0.1238</td>\n",
              "      <td>0.1866</td>\n",
              "      <td>0.2416</td>\n",
              "      <td>0.1860</td>\n",
              "      <td>0.2750</td>\n",
              "      <td>0.08902</td>\n",
              "    </tr>\n",
              "    <tr>\n",
              "      <th>2</th>\n",
              "      <td>84300903</td>\n",
              "      <td>M</td>\n",
              "      <td>19.69</td>\n",
              "      <td>21.25</td>\n",
              "      <td>130.00</td>\n",
              "      <td>1203.0</td>\n",
              "      <td>0.10960</td>\n",
              "      <td>0.15990</td>\n",
              "      <td>0.19740</td>\n",
              "      <td>0.12790</td>\n",
              "      <td>...</td>\n",
              "      <td>23.57</td>\n",
              "      <td>25.53</td>\n",
              "      <td>152.50</td>\n",
              "      <td>1709.0</td>\n",
              "      <td>0.1444</td>\n",
              "      <td>0.4245</td>\n",
              "      <td>0.4504</td>\n",
              "      <td>0.2430</td>\n",
              "      <td>0.3613</td>\n",
              "      <td>0.08758</td>\n",
              "    </tr>\n",
              "    <tr>\n",
              "      <th>3</th>\n",
              "      <td>84348301</td>\n",
              "      <td>M</td>\n",
              "      <td>11.42</td>\n",
              "      <td>20.38</td>\n",
              "      <td>77.58</td>\n",
              "      <td>386.1</td>\n",
              "      <td>0.14250</td>\n",
              "      <td>0.28390</td>\n",
              "      <td>0.24140</td>\n",
              "      <td>0.10520</td>\n",
              "      <td>...</td>\n",
              "      <td>14.91</td>\n",
              "      <td>26.50</td>\n",
              "      <td>98.87</td>\n",
              "      <td>567.7</td>\n",
              "      <td>0.2098</td>\n",
              "      <td>0.8663</td>\n",
              "      <td>0.6869</td>\n",
              "      <td>0.2575</td>\n",
              "      <td>0.6638</td>\n",
              "      <td>0.17300</td>\n",
              "    </tr>\n",
              "    <tr>\n",
              "      <th>4</th>\n",
              "      <td>84358402</td>\n",
              "      <td>M</td>\n",
              "      <td>20.29</td>\n",
              "      <td>14.34</td>\n",
              "      <td>135.10</td>\n",
              "      <td>1297.0</td>\n",
              "      <td>0.10030</td>\n",
              "      <td>0.13280</td>\n",
              "      <td>0.19800</td>\n",
              "      <td>0.10430</td>\n",
              "      <td>...</td>\n",
              "      <td>22.54</td>\n",
              "      <td>16.67</td>\n",
              "      <td>152.20</td>\n",
              "      <td>1575.0</td>\n",
              "      <td>0.1374</td>\n",
              "      <td>0.2050</td>\n",
              "      <td>0.4000</td>\n",
              "      <td>0.1625</td>\n",
              "      <td>0.2364</td>\n",
              "      <td>0.07678</td>\n",
              "    </tr>\n",
              "    <tr>\n",
              "      <th>5</th>\n",
              "      <td>843786</td>\n",
              "      <td>M</td>\n",
              "      <td>12.45</td>\n",
              "      <td>15.70</td>\n",
              "      <td>82.57</td>\n",
              "      <td>477.1</td>\n",
              "      <td>0.12780</td>\n",
              "      <td>0.17000</td>\n",
              "      <td>0.15780</td>\n",
              "      <td>0.08089</td>\n",
              "      <td>...</td>\n",
              "      <td>15.47</td>\n",
              "      <td>23.75</td>\n",
              "      <td>103.40</td>\n",
              "      <td>741.6</td>\n",
              "      <td>0.1791</td>\n",
              "      <td>0.5249</td>\n",
              "      <td>0.5355</td>\n",
              "      <td>0.1741</td>\n",
              "      <td>0.3985</td>\n",
              "      <td>0.12440</td>\n",
              "    </tr>\n",
              "    <tr>\n",
              "      <th>6</th>\n",
              "      <td>844359</td>\n",
              "      <td>M</td>\n",
              "      <td>18.25</td>\n",
              "      <td>19.98</td>\n",
              "      <td>119.60</td>\n",
              "      <td>1040.0</td>\n",
              "      <td>0.09463</td>\n",
              "      <td>0.10900</td>\n",
              "      <td>0.11270</td>\n",
              "      <td>0.07400</td>\n",
              "      <td>...</td>\n",
              "      <td>22.88</td>\n",
              "      <td>27.66</td>\n",
              "      <td>153.20</td>\n",
              "      <td>1606.0</td>\n",
              "      <td>0.1442</td>\n",
              "      <td>0.2576</td>\n",
              "      <td>0.3784</td>\n",
              "      <td>0.1932</td>\n",
              "      <td>0.3063</td>\n",
              "      <td>0.08368</td>\n",
              "    </tr>\n",
              "    <tr>\n",
              "      <th>7</th>\n",
              "      <td>84458202</td>\n",
              "      <td>M</td>\n",
              "      <td>13.71</td>\n",
              "      <td>20.83</td>\n",
              "      <td>90.20</td>\n",
              "      <td>577.9</td>\n",
              "      <td>0.11890</td>\n",
              "      <td>0.16450</td>\n",
              "      <td>0.09366</td>\n",
              "      <td>0.05985</td>\n",
              "      <td>...</td>\n",
              "      <td>17.06</td>\n",
              "      <td>28.14</td>\n",
              "      <td>110.60</td>\n",
              "      <td>897.0</td>\n",
              "      <td>0.1654</td>\n",
              "      <td>0.3682</td>\n",
              "      <td>0.2678</td>\n",
              "      <td>0.1556</td>\n",
              "      <td>0.3196</td>\n",
              "      <td>0.11510</td>\n",
              "    </tr>\n",
              "    <tr>\n",
              "      <th>8</th>\n",
              "      <td>844981</td>\n",
              "      <td>M</td>\n",
              "      <td>13.00</td>\n",
              "      <td>21.82</td>\n",
              "      <td>87.50</td>\n",
              "      <td>519.8</td>\n",
              "      <td>0.12730</td>\n",
              "      <td>0.19320</td>\n",
              "      <td>0.18590</td>\n",
              "      <td>0.09353</td>\n",
              "      <td>...</td>\n",
              "      <td>15.49</td>\n",
              "      <td>30.73</td>\n",
              "      <td>106.20</td>\n",
              "      <td>739.3</td>\n",
              "      <td>0.1703</td>\n",
              "      <td>0.5401</td>\n",
              "      <td>0.5390</td>\n",
              "      <td>0.2060</td>\n",
              "      <td>0.4378</td>\n",
              "      <td>0.10720</td>\n",
              "    </tr>\n",
              "    <tr>\n",
              "      <th>9</th>\n",
              "      <td>84501001</td>\n",
              "      <td>M</td>\n",
              "      <td>12.46</td>\n",
              "      <td>24.04</td>\n",
              "      <td>83.97</td>\n",
              "      <td>475.9</td>\n",
              "      <td>0.11860</td>\n",
              "      <td>0.23960</td>\n",
              "      <td>0.22730</td>\n",
              "      <td>0.08543</td>\n",
              "      <td>...</td>\n",
              "      <td>15.09</td>\n",
              "      <td>40.68</td>\n",
              "      <td>97.65</td>\n",
              "      <td>711.4</td>\n",
              "      <td>0.1853</td>\n",
              "      <td>1.0580</td>\n",
              "      <td>1.1050</td>\n",
              "      <td>0.2210</td>\n",
              "      <td>0.4366</td>\n",
              "      <td>0.20750</td>\n",
              "    </tr>\n",
              "  </tbody>\n",
              "</table>\n",
              "<p>10 rows × 32 columns</p>\n",
              "</div>\n",
              "      <button class=\"colab-df-convert\" onclick=\"convertToInteractive('df-878a08c7-01d3-46be-afbd-42ea1dcd106e')\"\n",
              "              title=\"Convert this dataframe to an interactive table.\"\n",
              "              style=\"display:none;\">\n",
              "        \n",
              "  <svg xmlns=\"http://www.w3.org/2000/svg\" height=\"24px\"viewBox=\"0 0 24 24\"\n",
              "       width=\"24px\">\n",
              "    <path d=\"M0 0h24v24H0V0z\" fill=\"none\"/>\n",
              "    <path d=\"M18.56 5.44l.94 2.06.94-2.06 2.06-.94-2.06-.94-.94-2.06-.94 2.06-2.06.94zm-11 1L8.5 8.5l.94-2.06 2.06-.94-2.06-.94L8.5 2.5l-.94 2.06-2.06.94zm10 10l.94 2.06.94-2.06 2.06-.94-2.06-.94-.94-2.06-.94 2.06-2.06.94z\"/><path d=\"M17.41 7.96l-1.37-1.37c-.4-.4-.92-.59-1.43-.59-.52 0-1.04.2-1.43.59L10.3 9.45l-7.72 7.72c-.78.78-.78 2.05 0 2.83L4 21.41c.39.39.9.59 1.41.59.51 0 1.02-.2 1.41-.59l7.78-7.78 2.81-2.81c.8-.78.8-2.07 0-2.86zM5.41 20L4 18.59l7.72-7.72 1.47 1.35L5.41 20z\"/>\n",
              "  </svg>\n",
              "      </button>\n",
              "      \n",
              "  <style>\n",
              "    .colab-df-container {\n",
              "      display:flex;\n",
              "      flex-wrap:wrap;\n",
              "      gap: 12px;\n",
              "    }\n",
              "\n",
              "    .colab-df-convert {\n",
              "      background-color: #E8F0FE;\n",
              "      border: none;\n",
              "      border-radius: 50%;\n",
              "      cursor: pointer;\n",
              "      display: none;\n",
              "      fill: #1967D2;\n",
              "      height: 32px;\n",
              "      padding: 0 0 0 0;\n",
              "      width: 32px;\n",
              "    }\n",
              "\n",
              "    .colab-df-convert:hover {\n",
              "      background-color: #E2EBFA;\n",
              "      box-shadow: 0px 1px 2px rgba(60, 64, 67, 0.3), 0px 1px 3px 1px rgba(60, 64, 67, 0.15);\n",
              "      fill: #174EA6;\n",
              "    }\n",
              "\n",
              "    [theme=dark] .colab-df-convert {\n",
              "      background-color: #3B4455;\n",
              "      fill: #D2E3FC;\n",
              "    }\n",
              "\n",
              "    [theme=dark] .colab-df-convert:hover {\n",
              "      background-color: #434B5C;\n",
              "      box-shadow: 0px 1px 3px 1px rgba(0, 0, 0, 0.15);\n",
              "      filter: drop-shadow(0px 1px 2px rgba(0, 0, 0, 0.3));\n",
              "      fill: #FFFFFF;\n",
              "    }\n",
              "  </style>\n",
              "\n",
              "      <script>\n",
              "        const buttonEl =\n",
              "          document.querySelector('#df-878a08c7-01d3-46be-afbd-42ea1dcd106e button.colab-df-convert');\n",
              "        buttonEl.style.display =\n",
              "          google.colab.kernel.accessAllowed ? 'block' : 'none';\n",
              "\n",
              "        async function convertToInteractive(key) {\n",
              "          const element = document.querySelector('#df-878a08c7-01d3-46be-afbd-42ea1dcd106e');\n",
              "          const dataTable =\n",
              "            await google.colab.kernel.invokeFunction('convertToInteractive',\n",
              "                                                     [key], {});\n",
              "          if (!dataTable) return;\n",
              "\n",
              "          const docLinkHtml = 'Like what you see? Visit the ' +\n",
              "            '<a target=\"_blank\" href=https://colab.research.google.com/notebooks/data_table.ipynb>data table notebook</a>'\n",
              "            + ' to learn more about interactive tables.';\n",
              "          element.innerHTML = '';\n",
              "          dataTable['output_type'] = 'display_data';\n",
              "          await google.colab.output.renderOutput(dataTable, element);\n",
              "          const docLink = document.createElement('div');\n",
              "          docLink.innerHTML = docLinkHtml;\n",
              "          element.appendChild(docLink);\n",
              "        }\n",
              "      </script>\n",
              "    </div>\n",
              "  </div>\n",
              "  "
            ]
          },
          "metadata": {},
          "execution_count": 28
        }
      ]
    },
    {
      "cell_type": "markdown",
      "source": [
        "Creating a variable $y$ with target data"
      ],
      "metadata": {
        "id": "FQ5j7QMtfdqR"
      }
    },
    {
      "cell_type": "code",
      "source": [
        "y = df['diagnosis']\n",
        "y"
      ],
      "metadata": {
        "colab": {
          "base_uri": "https://localhost:8080/"
        },
        "id": "Nr0TdHZpPkn0",
        "outputId": "4cadbc7e-214a-4275-cdd8-8681e19c4c2c"
      },
      "execution_count": 29,
      "outputs": [
        {
          "output_type": "execute_result",
          "data": {
            "text/plain": [
              "0      M\n",
              "1      M\n",
              "2      M\n",
              "3      M\n",
              "4      M\n",
              "      ..\n",
              "564    M\n",
              "565    M\n",
              "566    M\n",
              "567    M\n",
              "568    B\n",
              "Name: diagnosis, Length: 569, dtype: object"
            ]
          },
          "metadata": {},
          "execution_count": 29
        }
      ]
    },
    {
      "cell_type": "code",
      "source": [
        "df.shape"
      ],
      "metadata": {
        "colab": {
          "base_uri": "https://localhost:8080/"
        },
        "id": "qxWq5phpfZqP",
        "outputId": "5af921e9-84fd-4399-b9b8-96227eb71a1e"
      },
      "execution_count": 30,
      "outputs": [
        {
          "output_type": "execute_result",
          "data": {
            "text/plain": [
              "(569, 32)"
            ]
          },
          "metadata": {},
          "execution_count": 30
        }
      ]
    },
    {
      "cell_type": "markdown",
      "source": [
        "### Check nulls"
      ],
      "metadata": {
        "id": "oaUi9TQzxGPk"
      }
    },
    {
      "cell_type": "code",
      "source": [
        "df.isnull().sum()"
      ],
      "metadata": {
        "colab": {
          "base_uri": "https://localhost:8080/"
        },
        "id": "MIT0nEcVquKK",
        "outputId": "7b842360-7c50-41f3-a3a3-d71ab6a4a6d0"
      },
      "execution_count": 31,
      "outputs": [
        {
          "output_type": "execute_result",
          "data": {
            "text/plain": [
              "id                         0\n",
              "diagnosis                  0\n",
              "radius_mean                0\n",
              "texture_mean               0\n",
              "perimeter_mean             0\n",
              "area_mean                  0\n",
              "smoothness_mean            0\n",
              "compactness_mean           0\n",
              "concavity_mean             0\n",
              "concave points_mean        0\n",
              "symmetry_mean              0\n",
              "fractal_dimension_mean     0\n",
              "radius_se                  0\n",
              "texture_se                 0\n",
              "perimeter_se               0\n",
              "area_se                    0\n",
              "smoothness_se              0\n",
              "compactness_se             0\n",
              "concavity_se               0\n",
              "concave points_se          0\n",
              "symmetry_se                0\n",
              "fractal_dimension_se       0\n",
              "radius_worst               0\n",
              "texture_worst              0\n",
              "perimeter_worst            0\n",
              "area_worst                 0\n",
              "smoothness_worst           0\n",
              "compactness_worst          0\n",
              "concavity_worst            0\n",
              "concave points_worst       0\n",
              "symmetry_worst             0\n",
              "fractal_dimension_worst    0\n",
              "dtype: int64"
            ]
          },
          "metadata": {},
          "execution_count": 31
        }
      ]
    },
    {
      "cell_type": "markdown",
      "source": [
        "Convert to category with astype function"
      ],
      "metadata": {
        "id": "ubCgUcGCi4R1"
      }
    },
    {
      "cell_type": "code",
      "source": [
        "df['diagnosis']=df['diagnosis'].astype('category')"
      ],
      "metadata": {
        "id": "bS8rUx2Xgmod"
      },
      "execution_count": 33,
      "outputs": []
    },
    {
      "cell_type": "code",
      "source": [
        "df.dtypes"
      ],
      "metadata": {
        "colab": {
          "base_uri": "https://localhost:8080/"
        },
        "id": "0NxVzgQMgxB1",
        "outputId": "f0405a8d-0744-4b84-836e-81b2e4cb399b"
      },
      "execution_count": 34,
      "outputs": [
        {
          "output_type": "execute_result",
          "data": {
            "text/plain": [
              "id                            int64\n",
              "diagnosis                  category\n",
              "radius_mean                 float64\n",
              "texture_mean                float64\n",
              "perimeter_mean              float64\n",
              "area_mean                   float64\n",
              "smoothness_mean             float64\n",
              "compactness_mean            float64\n",
              "concavity_mean              float64\n",
              "concave points_mean         float64\n",
              "symmetry_mean               float64\n",
              "fractal_dimension_mean      float64\n",
              "radius_se                   float64\n",
              "texture_se                  float64\n",
              "perimeter_se                float64\n",
              "area_se                     float64\n",
              "smoothness_se               float64\n",
              "compactness_se              float64\n",
              "concavity_se                float64\n",
              "concave points_se           float64\n",
              "symmetry_se                 float64\n",
              "fractal_dimension_se        float64\n",
              "radius_worst                float64\n",
              "texture_worst               float64\n",
              "perimeter_worst             float64\n",
              "area_worst                  float64\n",
              "smoothness_worst            float64\n",
              "compactness_worst           float64\n",
              "concavity_worst             float64\n",
              "concave points_worst        float64\n",
              "symmetry_worst              float64\n",
              "fractal_dimension_worst     float64\n",
              "dtype: object"
            ]
          },
          "metadata": {},
          "execution_count": 34
        }
      ]
    },
    {
      "cell_type": "markdown",
      "source": [
        "### Check for balance in data"
      ],
      "metadata": {
        "id": "YG5O9CSvjRdE"
      }
    },
    {
      "cell_type": "code",
      "source": [
        "y.value_counts()"
      ],
      "metadata": {
        "colab": {
          "base_uri": "https://localhost:8080/"
        },
        "id": "-bExrMVagxi4",
        "outputId": "939b1a1c-85e9-4533-99fc-54738571a601"
      },
      "execution_count": 35,
      "outputs": [
        {
          "output_type": "execute_result",
          "data": {
            "text/plain": [
              "B    357\n",
              "M    212\n",
              "Name: diagnosis, dtype: int64"
            ]
          },
          "metadata": {},
          "execution_count": 35
        }
      ]
    },
    {
      "cell_type": "markdown",
      "source": [
        "We dont use this \"id\" column, drop them with **drop** column"
      ],
      "metadata": {
        "id": "GA4FETVxkgFO"
      }
    },
    {
      "cell_type": "code",
      "source": [
        "df = df.drop(labels='id', axis=1)"
      ],
      "metadata": {
        "id": "drd8ukFx9vmx"
      },
      "execution_count": 36,
      "outputs": []
    },
    {
      "cell_type": "markdown",
      "source": [
        "Creating $x$ variables. Its everything, except of diagnosis, because its $y$"
      ],
      "metadata": {
        "id": "Peu9h_9_mNsX"
      }
    },
    {
      "cell_type": "code",
      "source": [
        "x = df.drop(labels='diagnosis', axis=1)"
      ],
      "metadata": {
        "id": "Apr9kKMEmRMm"
      },
      "execution_count": 37,
      "outputs": []
    },
    {
      "cell_type": "markdown",
      "source": [
        "So actually the values have big distance from each other, **they are not in the same scale** we need to punish these big values with z score.\n",
        "\n",
        "Apply the on the x data. We create the variable called xscaled, because its effect of using the zscore on data\n",
        "\n",
        "ZSCORE is just mean - original data point / standard deviation\n",
        "\n",
        "![image.png](data:image/png;base64,iVBORw0KGgoAAAANSUhEUgAAAMQAAACTCAYAAADRLbYkAAAAAXNSR0IArs4c6QAAAARnQU1BAACxjwv8YQUAAAAJcEhZcwAADsMAAA7DAcdvqGQAABosSURBVHhe7Z0JXBVV+8d/7AIiJIiKkEJiZIq4gbu5L7lmmpa+5qu5pWmmmZqvf7dM0zctK9d8XdLAPdxNcUNzyQIVcElEQRARUfbrhfufZ+4MDNwLgiJyuc/385l75zyznTszv/Occ+aeZ0zS0tI0YBgjxtraWpoDTKVvhmEEWBAMo4AFwTAKWBAMo4AFwTAKWBAMo4AFwTAKWBAMo4AFwTAKWBAMo4AFwTAKWBAMo4AFwTAKWBAMo4AFwTAKeDxEDhn4e9vPOHD/IWKi01BVVQG1xk7GYHf6r7wKpwN/xl/hSYjOSIGdHdBt8GQ0rOKg3dTgSMa2jz/AnAuvI3D/NNSsXFmyK0nDrQvncNvZD21ezR0vUB5RjodgQYiocWjWfxDqNwzjunuigmB5+PtS+P7LH/7nT8Dq9jZcsemHLg0sYavKxNHvxmLEH9Vww38+LM20ezAkku9GoHejtghxG4TQ80tRQ7Irybq9D84Nh8Ci8RyEHfoY+iRTXuABQvn4Y9sSnPAYiMmSGAj75v1gXSkaX307HXu2m+Cd+uawF+w7vx6PYQt2ITU4GjFZ2nUNjYSEvxCWrUajJtX1ioGIOBUsfFqhc/e65VoM+TF6QWjUd7DlkhtG9/WWLFpMTS1RxcQcQesOwn5gZ5ibak9VjTp14WDmguFfjYG7pWgyOBIFr5cliLll086SRZc9Fy4BFvYY/F5jyWIcGL0gkuK3oXnn5nCtJBkk0lOTcVelBvz80KNJbhnZYuBEXIm/hEXDmkkWQ0OFcxEXkC34Qs8mtSRbfq4hOvI+zB0cUM+mfLcf8mP0grC2a4x2b9aUUrkk3QtB+uN0dPXpAFfJVj6IR/Dm28K3J/xqUCVQD5E3ERF8Dc72b6OStYVkNA6MXhAV7NqgqoPuaYg8/hvSsjWo6+ElWZ4P1bm18KxWDY6Ojs89udRuj/DEDGnPxSP17DmczhA8X/2ucK6o//LHxxzFRaFKVcu3KSwNtFr4rHAvk17i8FX/N7HkqDM2nv8D3T0KKEmLSWxsLGxsbGBra4vs7GykpKRAOP9CfT5LtNFUoUIFpKaminb6prS+bVxdn81vnf1uOLrP3oMWPwRhy8C6qCjZc1Cr4P/+IIw9Eo7Rew9hfrPy5R/1wd2uT+NeKFrVa4fw7HcRkbBSaFxL9nLA9I96Y+WOf/Db7Ytoaatb/KtUSfiotS/2PG6E4PBfUTL+sWzD3a5P4WpEkCAGC9R4tysq6RFDVHAwnq3C8pKJicGNf8KBKnbwsNB/6bNSbuLS/WTUfOOVHDEkJiZKc+UfFoQeIo7/LXxa4d/9Wguf+VBdxeR5J5BuiIqoeBv/hDxA9erucDTT/0RRFXISqWkq+Hj1liyAJnonNp2Ol1LlG6MWRHbCdfw4dhymrvgDufXGbASFRQp+1B51vXW7HP85cQrvfDMNr8hP8AwI9cEDuCV821nUgKmJHtenycaZvy4h4QnwShsfyQgcDTITROQspco3Ri2Ig1t+wEz/LVizPAAxki06ehMsq1UTispMIFktWSXiQ3HyWDZ61pPSBoUKuw5tFefUyBIKAN2m46O//fHp0p3CnCua18599hJT0Qod3KVEOceoBZGcroKpc1vMnj1UfNaQlRGFwz+m4pPJc/GWmyUCL8blthUSErB+1WFU69VPt2fGAFAnJyHgRLo4fzPqOMLi7onzWjR4dPsQVvz5BAErp6OieTY0qfTL1UgMXoGKTnmf4pdnzGbMmPF/0rzR4epmhp07/NGzsx+y1A+wZ3Uguk8aAxfnquhS3xKLvpwAK6c3hFLjbyybsgTNRk1A+4aC9zBAMuKPYc7K7VC7tsTkIW9g6g+nYe/pgSfhYTh0bDVW7VXjmy9GoLLrm4g+vBXR2VVglh6NkRuuYe7U/ijPz6stLHIfPhp9t6tGk4a4W/fwUKgdubhVh0MFuXGQjYyMR4i9E4sMCzs4V3WDowHfFZH7/ouW/5oPn74zsW/1eCQmxuH+/RRkZVmiWrXqsLevgJx2dmYmYhLu4JHKBjVrVoOt9D+u8go/hzBCtn31IUYtCcQnaw9jVp9GkpUh+DmE0XEH58+FCt914VfPQ2ti9MKCMAbuR+DEySjAsztqORjqKL/SgQVhBFw/fxHXhG+fni3g5aS1MfphQRgBIb+HAGaV0KK9nWRhCoIFYQTY1q8Kl44d0bMxN6afRgG9TCrs+H4Gfv71KK4/ykT9zp/hp7kDUMXWVloej3X/24l3PhwljjNmGEPmqb1M53YvwsR52/HY+hVUcdDg2IbJmPDtRaSKSzW4cXAP7iV7sRiYcoeOh9DEXsSYUYvwwYa1aO2g9Qj+/jMxe+JBjFy+HMOqqjB00138uGIAXMSlRSc7OwtPMlXIltLPjwnMLCxhYW4qzDHMs1Hog7ngHavxV+O+GFczb3dE8v27uBkShoB169Br3tfwc3eTlhSd2NAADGg3BmFS+rmxtsMHs7diyfCmMK6Rv0xJUqggHj9+jIxKlaDzZ9/kZBzd/TOSX++P3k2L6xsYpuxS/L9uqFJx4MfvkdZ8CN7xKyi0lWHx4MEDpKdr//3JFJ1nHctdlimWINLSErBq3DK0+GIkfOsUv5pUVhk5ciS2b98upZiiQgVJeaPIgngcHY6dR0Lg3bE/GtYwwCCmhRAYGIiwsBJrzRgNU6dOlebKD0UQRDaS4qKwPSgEXQb1KbFAXZkpCbh98y5KrqJihsou7qjuZCPMMcyz8VRBJMXF4r+7Q/DF0PawqaAnUlVUFOJq1kRxh8rEX9mMfm3Gl1wvk60dPpi1FUuHN+VH7swzU6ggosODsD04FgOGvofqFrrlriZbjf98sgqDF47F6/KDa4YxYJSCyFOwpiUE47uVu+FsWxfquGSoVCppicSTdOzdsgioXZvFwJRLcgRBEduW9RmBO8714eESj886NUXLAfMQKS0nAhcOxeippzByWCfJwjDlC6nKlIy/9q1CkEkLTOrWXDBn4dGZQ+g2cgzuJr8iOAQnpN2PRHSmPZavXodurb35yTBTbtCpMmU+vo9dmypjnCgGwgz2zbthw4Ip8HJV4dbDRDjU6I6luw6iF4uBKccU+hyCYYyBAhvVDGPssCAYRgELgmEUsCAYRgELgmEUsCAYRgF3u5YV4uKw/uAqHFy2C1foreoF4OTUBmuOfA8jeV1DqfDUf7sypYcqLQlLp43Fhr3HEfvw6e/pesOvF5b/8C183DkkZUnBzyHKCMkJf2F887ZYF3wX3aYtw+UHD8QRaefPB2JEt1ZCcWWG/ov2iTZ5OrVvHYvhBcIe4iXyry7eOHPXCmvXnERrvwp5QuloEv/BW56+uGLeBaH3Nhc75A9TdNhDvGTU6kxs+HdvHLlhjonf/YJW+cRAmFR2w5AP6kOjDkFotGRkXjgsiFInE5nRh7D45N/w6jIaH7erU8BFsET9V18VvuNwNoYVUVqwIEodS5zc/jViEtMwdFQvyaaPh1DfihK+3VHfhC9TacFnurR5FInVyyKEmbfQwiP31bc6pKTAP/CyMFMZTi7cgigtWBClTELsNRyjqNFD2sFZoyeAg0Tmg2j8kgLY12sA7/IXG6zMwoIoZR4mUHvAFD1c3FCpktamjzu/nxI+TdFhRCtwJ2vpwYIoZUxAKjBHLY83tYYC2Lh5FSws38T0bt0lC1MasCBKmdpeteEEDVIKeSlAVMB3CIyywucb/OHuxAN2SxMWRGnj5I3p7R2xYdtxpD95IhklsrKQEXMAo37cgQ7/WYNJnapKC5jSggVR6phg4IqDaBf+LVadzBs4OPXCcTRruxj9J/wP895vIlmZ0oT/uvFSyEJS5F/YtHc/rB464Pyd+/B1d0JqFaBTr0F4zbkKrKQ1mRcP/9uVYRTwf5kYpgBYEAyjgAXBMApYEAyjgAXBMApYEAyjgAXBMApYEAyjgAXBMApYEAyjgAXBMApYEAyjgAXBMApYEAyjgAXBMApYEAyjgAXBMApYEAyjgAXBMApYEAyjgAXBMApYEAyjQI8gnuD3Hyei+cwAJEgWXVSIvR2FuKSnvySwrBEaGipOBXH9+vVClzPlGx1B3A87iZkzN+La4duSRQ9Rm9G8RQv0+emgZDAc2rVrJ0779++XLLnExcWhdevW4nLGONERRNKV87gmfPsMbQonrSkfGhzaGITkdDP4enpCLVkNjbS0NGkuF7VajSf5460yRoWOIELOhAifthjkrT9cuyZLjR1Hw4RVnNC9aV2YS3ZDIjo6GiNHjpRSuTRo0ABBQUFSSpdjx46J08mTJyVLXuTl8pSleAE7zZONUK7DlC10Qll+1rEe/hdlgy3nTqHzK7pvuMlW/4murfvhT1Nv3A/+rVit8munAzF2wBjQC6VKhooYOPcXfDmscZFfKuLo6CgKwtXVVXzvsxJaRoKgKpNyGQlg0KBBSE9Plyza8Ie0Hxnan3I5oVyHltE6ZFOu17RpUxw4cEBKMS+DQmK7Hke/2u/jskM3nAteBXsr3dv9ybWt8G0zGlXfnocDa8dI1qKR+TgKJw9fwCMp/dxYWMC9Xks08nCUDE9HFsSECRPE9KpVq8TvNWvW4Pvvv0dISIi4jlIQlF6+fLkoCoJK+7feegsthHbUwoULMXfuXNy8eRPr1q0TlxPx8fGix6Ht+vXrlyMIEtu2bdvEdcLDw9GqVSvxmLSMeTkUIIhsJF9YDJ8uC1H13fU4sbKH3upQbMCXqDfmJ/SZugNrP28rWQ0HWRCbNm3Cjh07chrX48ePh62tLb7++us8gpg6dSpu3LiB7du3i2kl+YUjQzc4bTNu3DgdQejzSiyIl4tSEAoXYIqglfuQBBN496xTQNvgIXYfo/qzBxq+5ak1GSgfffQRzp07J6WAzZs3i2LQB9X16cbNPymhG162t2/fXvRAKpVKWsoYCrmCUKUiKDRRmPHCkGYFlFYpcfjV/zJQvTG6Nygfr4p9//33MWfOHCmlH29vb9FD6JtkqIRX2skLKUsexjDIEYQq4w5OJyfCxt0Lnk42kjUv96IjcUn4duvmA49y8EYPaj+cOHFCrLKMGDFCsupCpT/V9andkH8i6Pvzzz/XsTOGR44gUh7cxIN76fD08oSzZMtPdPAh4dMcveu11xoEruxciC2X7kupwrl+eieaKaoczz1VqYVP1pyX9l58bGxsoNFokJmZCQcH/f1U1Gimp9e3bt3K6R2ibcgD1KxZU0wTycnJ0hyQlJSErVu35qzPGA5SozoJp1bOQt/pm9Bu6CIE/He4tDgvK6a0wYz117Ao6AKGvylUq56kY/m4WWg9exEaVJNWKgR15kOEXb0jpUoAMzNUruYOV0f9Hk0fJCRldYbSRP5eJWX6559/xpQpU/Dqq6/C3t5eFMTly5dx6dIluLi4iIJp1qwZ6tevL65/9+5duLu7i8up54ob1WUbZdXWbMaMGf9HPUyn5k/Bvqg0uPh0w6AuPtLiXKIOrsb8xftxX52FyWMnw8XBSqhmpSAg2Q5DW7lLaxWOqbk1qlatWnKTszMq2RT/tbUtW7YUtGQmpbRpqhIpUaYbNmwo9jY9evQInp6e4rRs2TJRIATd1LS+lZWVuKxRo0ZYsWIFPvvsMwQGBubsy9TUVOc4hLwt83KwsMi9h0QPoY67jGZvtkUkWeq0R/ixTXCWLhD1uaviDmPO1lh4mBzAlwvu4feLgajvYo27B1ciyKIvPmhfPhrYjHGi0+2alHRaKwb3jhhT7QG6fvwDHqU/QWJiGI5v2ICv9llg+tghGNp/BnrWCcef8fEIC96LaVteQe82RagrMYyBIHqIU8s/Re9Zv6LVoj3YPegNXL54Dn/+c1Nw427w9W0o1IcdYWJiIm6QkBCOi8f+RnLFOmjXtTEqi1aGMVyUHkIUxPJJ7TFrUyRWHj+Ld98oqI+JYcon+apMkbh0NBQWlXzg7WwnmRnGODGNDw3BmTsaVKz1GhxtcpXCMMaIaVzIBcQIM149u8CR9cAYOaYng48IX15o0cVNa2EYI8bUxsUD9Xq9iwleXpKJYYwXxXgIhjFOdB7MMQyjhQXBMApYEAyjgAXBMApYEAyjoNBepujLl3Hy0n6EhCRAU0hflN874/GOX9ke4LJgwQIxwsaVK1ckC/Daa6+hS5cuYhgZgka6+fr64to1il344qHReJSnFxGwTBlWpyDkwVH6+PXXX9GpUycpVTLQ8Wi8eVGH2FLe3377bXFAlwxt261bN3F8Skmh8+c+aV5ChYSrBzB9wbfYHliEoL82Nhj2yU9YPKWHZCh7yCPeKPQMnUwZGslGN6N8kejEUywlfaFlXgRlQRD6fiudq6NHj8LOzu6F5K2o0HWh6CVKQbwICu12Df3le9RvOwLbr6uwceM+MTM0rZjRU1xuZT0MEZJNnG7cwMLP3haXFUw2jqz5BL6uruJQyZKZfLH0SKSw56dDF/js2bN5xEDQCSdvIAcgY7R88803+OOPP0RvGhNDf+wxHhQeQo3YvUvQc8IGVO84Ctu+GwsrS2V0plQcmPYRBq/9E3M3HcaYztrhk0VDg5S4CJwMDoNuiOFnRPBMDRq2Ru1qFSVDwVBJSGIgD5EfGhG4a9cuPHz4MI8bpvHRVDpSvCZ/f3+cOnVKWkJDuc3EZXXr1hXT5F0oUDKNrz5yhP4KAzg7O4uls6WlNhwoxWiiwGUkQqJDhw5o3LhxHg9B8WYpL8qYsDS8dPfu3VJK+1toW/k4cglP28r7pm169uz5zB5CZunSpbhw4ULOeaP803m4c0c7Lp6O895774mhfAqrysjHoW/ZG1N62rRpOXmW+fLLL/Hpp5/m+T0ERUUhj5r/OPmvj5ubm5gvChBHUKFNXp9qA8r9ycchlB6ComBraEq6FqzpVKuKxqPbp2Ja33Q9aJ3G2tpWM2jBfr3Ly+oklHZCvq01w4cP12zcuFGcrl69qrOe4C3E9ZS27t27a+bPn5/HJniUPOsJ7Q4xLVzgHJtQ/86zDs2TTU7TumSjbSl95swZTc2aNTVCOyZnHZon2/jx43Nsym3kqXLlypq2bdvmpCm/tJ6np2ee9fJPyvzpm+TzRvP79u0T5wXx5iyXjyOn9e2P8kbnW15O+6H5ZcuWaXr06JFnXaGaJ64jiEVM03a0vXId+u2zZs3KSdP6yutD+VMeR76mQuGTs07+4yjRVpk0QpVmlqD+e+lY8sN80aQPG2cKkJ+NkLgbWoOBQIHGateujZ07d4qlHJU+Pj4+YolF0TCUJXJ+KA6rXJIQtP6iRYukVC4Ul2nmzJlSCnm2oZJJuAB5Snpal7aRoVKMYr3KHoXyRNPrr78uppXIHoWgecqTHJKToGNTaVqSUAlLpS11OsjIx6G8EzRYn0pwGTlvyoAOMhQ5MSAgQEoBGRkZ6Nu3r5QqGnRcOqbyXFP+6FxTfpUoI7aTRysIURCPIs9j0q4IoNkctChkTGhKita9Vs40vKAC1IagC0r1YrpBZfdJ7ZGCwtvL0BuF6ATTROvXqVNHWlLy0MWi49CNVZS8lSbU1pLPgzxR412GbszIyEgkJOR991SfPn2kOV3k/Xh4eIi/t7jMmzdPmsuFwgI9K6Igzv22DfFmNhjy0duw042An0NqKDWwTOFeRzu+2hC4ePGi6BlkBBcs3mxyPXbYsGHiBSkIqqsOHjxY9DA0Ub2chPUiII9F7RA6DkUWp/wpS9yXjXwOlJNQVcPAgQPF5XSuUlJSxNKeoPNa0LkiO/1eeT9DhgwRf+/LRhBEFE4LJaCJeQW09y68gRp8/qiwhTXcqunGbXoaQWu/gLdwAugklMzkjYWHbj61l+nw4cNYvHix2OjVh/wMoiCoBCQPQVUDmgpzt4UhVE/FCIEFQTcT3fyUV/lYxYGqJiUNhe5XNspHjx6dkzflRI1jGepMoKqM/Huo+qIPWofexaHcz7NAz47y8zw9Y4IghPpdXCzMbeqgrn0FyayPWATtPQ8L83oY0qaKZCs6LQdMQoBwAugklMwUgMHNXbUurhDIA0RERIglmT66du0qdjMWB9qmOFCvEJWaQsNZsmhZv369NKcfEhD18hRGkyZNxCBnQiNSsmihQGrPA73rgoKu0Q1O0Dny8/MT55WQ96WeJhnq8XlWqFerONCx6IFrfiifxb2mMuZCUxmPKwHWFraoZFPwC7KSTvyCM4kV0eW7r1G9sm4j6WlY2jnDy7v0I3rQBaXGKp0kcu0UhU+GhHL16lWdlyxSaUWRAT/88EMxCh91jw4YMEBcRg3qSZMmiaEsiwrFjaVtqAohN6RJDPfu3cu54Tp27Ch6o/nz58Pc3FzMGzWUa9SoIS4viIoVK2Ly5MliRwG9k4KgxiqF0yxKnVxfyUx5o2rMqFGjchr5FOKfGrDkneXfQMehKih5YRnqwKDj0m8prAo0ZswY8bzL+6JIh/oER56d8kjXIf+Tcy8vL53rQ+eN8pn/mhYV8TnEorG9sPKoDc7+uRlOtvrK3AxM6dEBB9Lb49KRwqsYZRkqgaifX4ZKbmXPEEE3Fj2so4az/HYhZT1e3oYe9tHNOnHiRHGb5s2bi95Ihkp2ulGVPUKEvK/Vq1cjODgYp0+fzjmOvI2MvC1to28+P/K+qdpFzwro7xeFldjK36WE8kbeQR9UxZSfgRAF5YU8R/5eIzoe5Y28GiGfaxnaV/7zJueRGuZPO9dE/mtKb3IiseTPJ+334MGDondVVutEQcT8/i2ajF6HU2fP4jU9kQYiFryPtv5JOHR8KxrY20pWhikfKAUhugPHVh9ijt+rmL3xdzwWzTJJ8P92JgaesMHOPetZDEy5J+evG+qMFCwZ8W9EN2mDdk4O0Dil4eKeCzB37YiZU/rD3MxwuloZpjjoVJmkeSA7G+psNbKeZInvXjAzMxeE8LR+HIYxbAoWBMMYIXkEQX9okuYZxujh+hDDKGBBMIwCFgTD5AD8P6ja0NElMDSiAAAAAElFTkSuQmCC)"
      ],
      "metadata": {
        "id": "SGRrXufY24mW"
      }
    },
    {
      "cell_type": "code",
      "source": [
        "from scipy.stats import zscore\n",
        "\n",
        "xscaled = x.apply(zscore)"
      ],
      "metadata": {
        "id": "DQWUtnMDkzBJ"
      },
      "execution_count": 38,
      "outputs": []
    },
    {
      "cell_type": "markdown",
      "source": [
        "Lets now look at standard deviation, its now same everywhere."
      ],
      "metadata": {
        "id": "VPONJ2DL-pYz"
      }
    },
    {
      "cell_type": "code",
      "source": [
        "xscaled.describe()"
      ],
      "metadata": {
        "id": "WMbSGd1zmrSR",
        "colab": {
          "base_uri": "https://localhost:8080/",
          "height": 411
        },
        "outputId": "f39c1f10-fa97-4a04-d3d2-227081fcaef8"
      },
      "execution_count": 39,
      "outputs": [
        {
          "output_type": "execute_result",
          "data": {
            "text/plain": [
              "        radius_mean  texture_mean  perimeter_mean     area_mean  \\\n",
              "count  5.690000e+02  5.690000e+02    5.690000e+02  5.690000e+02   \n",
              "mean  -1.373633e-16  6.868164e-17   -1.248757e-16 -2.185325e-16   \n",
              "std    1.000880e+00  1.000880e+00    1.000880e+00  1.000880e+00   \n",
              "min   -2.029648e+00 -2.229249e+00   -1.984504e+00 -1.454443e+00   \n",
              "25%   -6.893853e-01 -7.259631e-01   -6.919555e-01 -6.671955e-01   \n",
              "50%   -2.150816e-01 -1.046362e-01   -2.359800e-01 -2.951869e-01   \n",
              "75%    4.693926e-01  5.841756e-01    4.996769e-01  3.635073e-01   \n",
              "max    3.971288e+00  4.651889e+00    3.976130e+00  5.250529e+00   \n",
              "\n",
              "       smoothness_mean  compactness_mean  concavity_mean  concave points_mean  \\\n",
              "count     5.690000e+02      5.690000e+02    5.690000e+02         5.690000e+02   \n",
              "mean     -8.366672e-16      1.873136e-16    4.995028e-17        -4.995028e-17   \n",
              "std       1.000880e+00      1.000880e+00    1.000880e+00         1.000880e+00   \n",
              "min      -3.112085e+00     -1.610136e+00   -1.114873e+00        -1.261820e+00   \n",
              "25%      -7.109628e-01     -7.470860e-01   -7.437479e-01        -7.379438e-01   \n",
              "50%      -3.489108e-02     -2.219405e-01   -3.422399e-01        -3.977212e-01   \n",
              "75%       6.361990e-01      4.938569e-01    5.260619e-01         6.469351e-01   \n",
              "max       4.770911e+00      4.568425e+00    4.243589e+00         3.927930e+00   \n",
              "\n",
              "       symmetry_mean  fractal_dimension_mean  ...  radius_worst  \\\n",
              "count   5.690000e+02            5.690000e+02  ...  5.690000e+02   \n",
              "mean    1.748260e-16            4.745277e-16  ... -8.241796e-16   \n",
              "std     1.000880e+00            1.000880e+00  ...  1.000880e+00   \n",
              "min    -2.744117e+00           -1.819865e+00  ... -1.726901e+00   \n",
              "25%    -7.032397e-01           -7.226392e-01  ... -6.749213e-01   \n",
              "50%    -7.162650e-02           -1.782793e-01  ... -2.690395e-01   \n",
              "75%     5.307792e-01            4.709834e-01  ...  5.220158e-01   \n",
              "max     4.484751e+00            4.910919e+00  ...  4.094189e+00   \n",
              "\n",
              "       texture_worst  perimeter_worst  area_worst  smoothness_worst  \\\n",
              "count   5.690000e+02     5.690000e+02  569.000000      5.690000e+02   \n",
              "mean    1.248757e-17    -3.746271e-16    0.000000     -2.372638e-16   \n",
              "std     1.000880e+00     1.000880e+00    1.000880      1.000880e+00   \n",
              "min    -2.223994e+00    -1.693361e+00   -1.222423     -2.682695e+00   \n",
              "25%    -7.486293e-01    -6.895783e-01   -0.642136     -6.912304e-01   \n",
              "50%    -4.351564e-02    -2.859802e-01   -0.341181     -4.684277e-02   \n",
              "75%     6.583411e-01     5.402790e-01    0.357589      5.975448e-01   \n",
              "max     3.885905e+00     4.287337e+00    5.930172      3.955374e+00   \n",
              "\n",
              "       compactness_worst  concavity_worst  concave points_worst  \\\n",
              "count       5.690000e+02     5.690000e+02          5.690000e+02   \n",
              "mean       -3.371644e-16     7.492542e-17          2.247763e-16   \n",
              "std         1.000880e+00     1.000880e+00          1.000880e+00   \n",
              "min        -1.443878e+00    -1.305831e+00         -1.745063e+00   \n",
              "25%        -6.810833e-01    -7.565142e-01         -7.563999e-01   \n",
              "50%        -2.695009e-01    -2.182321e-01         -2.234689e-01   \n",
              "75%         5.396688e-01     5.311411e-01          7.125100e-01   \n",
              "max         5.112877e+00     4.700669e+00          2.685877e+00   \n",
              "\n",
              "       symmetry_worst  fractal_dimension_worst  \n",
              "count    5.690000e+02             5.690000e+02  \n",
              "mean     2.622390e-16            -5.744282e-16  \n",
              "std      1.000880e+00             1.000880e+00  \n",
              "min     -2.160960e+00            -1.601839e+00  \n",
              "25%     -6.418637e-01            -6.919118e-01  \n",
              "50%     -1.274095e-01            -2.164441e-01  \n",
              "75%      4.501382e-01             4.507624e-01  \n",
              "max      6.046041e+00             6.846856e+00  \n",
              "\n",
              "[8 rows x 30 columns]"
            ],
            "text/html": [
              "\n",
              "  <div id=\"df-92734f33-b30d-4437-9929-008ade0b1e84\">\n",
              "    <div class=\"colab-df-container\">\n",
              "      <div>\n",
              "<style scoped>\n",
              "    .dataframe tbody tr th:only-of-type {\n",
              "        vertical-align: middle;\n",
              "    }\n",
              "\n",
              "    .dataframe tbody tr th {\n",
              "        vertical-align: top;\n",
              "    }\n",
              "\n",
              "    .dataframe thead th {\n",
              "        text-align: right;\n",
              "    }\n",
              "</style>\n",
              "<table border=\"1\" class=\"dataframe\">\n",
              "  <thead>\n",
              "    <tr style=\"text-align: right;\">\n",
              "      <th></th>\n",
              "      <th>radius_mean</th>\n",
              "      <th>texture_mean</th>\n",
              "      <th>perimeter_mean</th>\n",
              "      <th>area_mean</th>\n",
              "      <th>smoothness_mean</th>\n",
              "      <th>compactness_mean</th>\n",
              "      <th>concavity_mean</th>\n",
              "      <th>concave points_mean</th>\n",
              "      <th>symmetry_mean</th>\n",
              "      <th>fractal_dimension_mean</th>\n",
              "      <th>...</th>\n",
              "      <th>radius_worst</th>\n",
              "      <th>texture_worst</th>\n",
              "      <th>perimeter_worst</th>\n",
              "      <th>area_worst</th>\n",
              "      <th>smoothness_worst</th>\n",
              "      <th>compactness_worst</th>\n",
              "      <th>concavity_worst</th>\n",
              "      <th>concave points_worst</th>\n",
              "      <th>symmetry_worst</th>\n",
              "      <th>fractal_dimension_worst</th>\n",
              "    </tr>\n",
              "  </thead>\n",
              "  <tbody>\n",
              "    <tr>\n",
              "      <th>count</th>\n",
              "      <td>5.690000e+02</td>\n",
              "      <td>5.690000e+02</td>\n",
              "      <td>5.690000e+02</td>\n",
              "      <td>5.690000e+02</td>\n",
              "      <td>5.690000e+02</td>\n",
              "      <td>5.690000e+02</td>\n",
              "      <td>5.690000e+02</td>\n",
              "      <td>5.690000e+02</td>\n",
              "      <td>5.690000e+02</td>\n",
              "      <td>5.690000e+02</td>\n",
              "      <td>...</td>\n",
              "      <td>5.690000e+02</td>\n",
              "      <td>5.690000e+02</td>\n",
              "      <td>5.690000e+02</td>\n",
              "      <td>569.000000</td>\n",
              "      <td>5.690000e+02</td>\n",
              "      <td>5.690000e+02</td>\n",
              "      <td>5.690000e+02</td>\n",
              "      <td>5.690000e+02</td>\n",
              "      <td>5.690000e+02</td>\n",
              "      <td>5.690000e+02</td>\n",
              "    </tr>\n",
              "    <tr>\n",
              "      <th>mean</th>\n",
              "      <td>-1.373633e-16</td>\n",
              "      <td>6.868164e-17</td>\n",
              "      <td>-1.248757e-16</td>\n",
              "      <td>-2.185325e-16</td>\n",
              "      <td>-8.366672e-16</td>\n",
              "      <td>1.873136e-16</td>\n",
              "      <td>4.995028e-17</td>\n",
              "      <td>-4.995028e-17</td>\n",
              "      <td>1.748260e-16</td>\n",
              "      <td>4.745277e-16</td>\n",
              "      <td>...</td>\n",
              "      <td>-8.241796e-16</td>\n",
              "      <td>1.248757e-17</td>\n",
              "      <td>-3.746271e-16</td>\n",
              "      <td>0.000000</td>\n",
              "      <td>-2.372638e-16</td>\n",
              "      <td>-3.371644e-16</td>\n",
              "      <td>7.492542e-17</td>\n",
              "      <td>2.247763e-16</td>\n",
              "      <td>2.622390e-16</td>\n",
              "      <td>-5.744282e-16</td>\n",
              "    </tr>\n",
              "    <tr>\n",
              "      <th>std</th>\n",
              "      <td>1.000880e+00</td>\n",
              "      <td>1.000880e+00</td>\n",
              "      <td>1.000880e+00</td>\n",
              "      <td>1.000880e+00</td>\n",
              "      <td>1.000880e+00</td>\n",
              "      <td>1.000880e+00</td>\n",
              "      <td>1.000880e+00</td>\n",
              "      <td>1.000880e+00</td>\n",
              "      <td>1.000880e+00</td>\n",
              "      <td>1.000880e+00</td>\n",
              "      <td>...</td>\n",
              "      <td>1.000880e+00</td>\n",
              "      <td>1.000880e+00</td>\n",
              "      <td>1.000880e+00</td>\n",
              "      <td>1.000880</td>\n",
              "      <td>1.000880e+00</td>\n",
              "      <td>1.000880e+00</td>\n",
              "      <td>1.000880e+00</td>\n",
              "      <td>1.000880e+00</td>\n",
              "      <td>1.000880e+00</td>\n",
              "      <td>1.000880e+00</td>\n",
              "    </tr>\n",
              "    <tr>\n",
              "      <th>min</th>\n",
              "      <td>-2.029648e+00</td>\n",
              "      <td>-2.229249e+00</td>\n",
              "      <td>-1.984504e+00</td>\n",
              "      <td>-1.454443e+00</td>\n",
              "      <td>-3.112085e+00</td>\n",
              "      <td>-1.610136e+00</td>\n",
              "      <td>-1.114873e+00</td>\n",
              "      <td>-1.261820e+00</td>\n",
              "      <td>-2.744117e+00</td>\n",
              "      <td>-1.819865e+00</td>\n",
              "      <td>...</td>\n",
              "      <td>-1.726901e+00</td>\n",
              "      <td>-2.223994e+00</td>\n",
              "      <td>-1.693361e+00</td>\n",
              "      <td>-1.222423</td>\n",
              "      <td>-2.682695e+00</td>\n",
              "      <td>-1.443878e+00</td>\n",
              "      <td>-1.305831e+00</td>\n",
              "      <td>-1.745063e+00</td>\n",
              "      <td>-2.160960e+00</td>\n",
              "      <td>-1.601839e+00</td>\n",
              "    </tr>\n",
              "    <tr>\n",
              "      <th>25%</th>\n",
              "      <td>-6.893853e-01</td>\n",
              "      <td>-7.259631e-01</td>\n",
              "      <td>-6.919555e-01</td>\n",
              "      <td>-6.671955e-01</td>\n",
              "      <td>-7.109628e-01</td>\n",
              "      <td>-7.470860e-01</td>\n",
              "      <td>-7.437479e-01</td>\n",
              "      <td>-7.379438e-01</td>\n",
              "      <td>-7.032397e-01</td>\n",
              "      <td>-7.226392e-01</td>\n",
              "      <td>...</td>\n",
              "      <td>-6.749213e-01</td>\n",
              "      <td>-7.486293e-01</td>\n",
              "      <td>-6.895783e-01</td>\n",
              "      <td>-0.642136</td>\n",
              "      <td>-6.912304e-01</td>\n",
              "      <td>-6.810833e-01</td>\n",
              "      <td>-7.565142e-01</td>\n",
              "      <td>-7.563999e-01</td>\n",
              "      <td>-6.418637e-01</td>\n",
              "      <td>-6.919118e-01</td>\n",
              "    </tr>\n",
              "    <tr>\n",
              "      <th>50%</th>\n",
              "      <td>-2.150816e-01</td>\n",
              "      <td>-1.046362e-01</td>\n",
              "      <td>-2.359800e-01</td>\n",
              "      <td>-2.951869e-01</td>\n",
              "      <td>-3.489108e-02</td>\n",
              "      <td>-2.219405e-01</td>\n",
              "      <td>-3.422399e-01</td>\n",
              "      <td>-3.977212e-01</td>\n",
              "      <td>-7.162650e-02</td>\n",
              "      <td>-1.782793e-01</td>\n",
              "      <td>...</td>\n",
              "      <td>-2.690395e-01</td>\n",
              "      <td>-4.351564e-02</td>\n",
              "      <td>-2.859802e-01</td>\n",
              "      <td>-0.341181</td>\n",
              "      <td>-4.684277e-02</td>\n",
              "      <td>-2.695009e-01</td>\n",
              "      <td>-2.182321e-01</td>\n",
              "      <td>-2.234689e-01</td>\n",
              "      <td>-1.274095e-01</td>\n",
              "      <td>-2.164441e-01</td>\n",
              "    </tr>\n",
              "    <tr>\n",
              "      <th>75%</th>\n",
              "      <td>4.693926e-01</td>\n",
              "      <td>5.841756e-01</td>\n",
              "      <td>4.996769e-01</td>\n",
              "      <td>3.635073e-01</td>\n",
              "      <td>6.361990e-01</td>\n",
              "      <td>4.938569e-01</td>\n",
              "      <td>5.260619e-01</td>\n",
              "      <td>6.469351e-01</td>\n",
              "      <td>5.307792e-01</td>\n",
              "      <td>4.709834e-01</td>\n",
              "      <td>...</td>\n",
              "      <td>5.220158e-01</td>\n",
              "      <td>6.583411e-01</td>\n",
              "      <td>5.402790e-01</td>\n",
              "      <td>0.357589</td>\n",
              "      <td>5.975448e-01</td>\n",
              "      <td>5.396688e-01</td>\n",
              "      <td>5.311411e-01</td>\n",
              "      <td>7.125100e-01</td>\n",
              "      <td>4.501382e-01</td>\n",
              "      <td>4.507624e-01</td>\n",
              "    </tr>\n",
              "    <tr>\n",
              "      <th>max</th>\n",
              "      <td>3.971288e+00</td>\n",
              "      <td>4.651889e+00</td>\n",
              "      <td>3.976130e+00</td>\n",
              "      <td>5.250529e+00</td>\n",
              "      <td>4.770911e+00</td>\n",
              "      <td>4.568425e+00</td>\n",
              "      <td>4.243589e+00</td>\n",
              "      <td>3.927930e+00</td>\n",
              "      <td>4.484751e+00</td>\n",
              "      <td>4.910919e+00</td>\n",
              "      <td>...</td>\n",
              "      <td>4.094189e+00</td>\n",
              "      <td>3.885905e+00</td>\n",
              "      <td>4.287337e+00</td>\n",
              "      <td>5.930172</td>\n",
              "      <td>3.955374e+00</td>\n",
              "      <td>5.112877e+00</td>\n",
              "      <td>4.700669e+00</td>\n",
              "      <td>2.685877e+00</td>\n",
              "      <td>6.046041e+00</td>\n",
              "      <td>6.846856e+00</td>\n",
              "    </tr>\n",
              "  </tbody>\n",
              "</table>\n",
              "<p>8 rows × 30 columns</p>\n",
              "</div>\n",
              "      <button class=\"colab-df-convert\" onclick=\"convertToInteractive('df-92734f33-b30d-4437-9929-008ade0b1e84')\"\n",
              "              title=\"Convert this dataframe to an interactive table.\"\n",
              "              style=\"display:none;\">\n",
              "        \n",
              "  <svg xmlns=\"http://www.w3.org/2000/svg\" height=\"24px\"viewBox=\"0 0 24 24\"\n",
              "       width=\"24px\">\n",
              "    <path d=\"M0 0h24v24H0V0z\" fill=\"none\"/>\n",
              "    <path d=\"M18.56 5.44l.94 2.06.94-2.06 2.06-.94-2.06-.94-.94-2.06-.94 2.06-2.06.94zm-11 1L8.5 8.5l.94-2.06 2.06-.94-2.06-.94L8.5 2.5l-.94 2.06-2.06.94zm10 10l.94 2.06.94-2.06 2.06-.94-2.06-.94-.94-2.06-.94 2.06-2.06.94z\"/><path d=\"M17.41 7.96l-1.37-1.37c-.4-.4-.92-.59-1.43-.59-.52 0-1.04.2-1.43.59L10.3 9.45l-7.72 7.72c-.78.78-.78 2.05 0 2.83L4 21.41c.39.39.9.59 1.41.59.51 0 1.02-.2 1.41-.59l7.78-7.78 2.81-2.81c.8-.78.8-2.07 0-2.86zM5.41 20L4 18.59l7.72-7.72 1.47 1.35L5.41 20z\"/>\n",
              "  </svg>\n",
              "      </button>\n",
              "      \n",
              "  <style>\n",
              "    .colab-df-container {\n",
              "      display:flex;\n",
              "      flex-wrap:wrap;\n",
              "      gap: 12px;\n",
              "    }\n",
              "\n",
              "    .colab-df-convert {\n",
              "      background-color: #E8F0FE;\n",
              "      border: none;\n",
              "      border-radius: 50%;\n",
              "      cursor: pointer;\n",
              "      display: none;\n",
              "      fill: #1967D2;\n",
              "      height: 32px;\n",
              "      padding: 0 0 0 0;\n",
              "      width: 32px;\n",
              "    }\n",
              "\n",
              "    .colab-df-convert:hover {\n",
              "      background-color: #E2EBFA;\n",
              "      box-shadow: 0px 1px 2px rgba(60, 64, 67, 0.3), 0px 1px 3px 1px rgba(60, 64, 67, 0.15);\n",
              "      fill: #174EA6;\n",
              "    }\n",
              "\n",
              "    [theme=dark] .colab-df-convert {\n",
              "      background-color: #3B4455;\n",
              "      fill: #D2E3FC;\n",
              "    }\n",
              "\n",
              "    [theme=dark] .colab-df-convert:hover {\n",
              "      background-color: #434B5C;\n",
              "      box-shadow: 0px 1px 3px 1px rgba(0, 0, 0, 0.15);\n",
              "      filter: drop-shadow(0px 1px 2px rgba(0, 0, 0, 0.3));\n",
              "      fill: #FFFFFF;\n",
              "    }\n",
              "  </style>\n",
              "\n",
              "      <script>\n",
              "        const buttonEl =\n",
              "          document.querySelector('#df-92734f33-b30d-4437-9929-008ade0b1e84 button.colab-df-convert');\n",
              "        buttonEl.style.display =\n",
              "          google.colab.kernel.accessAllowed ? 'block' : 'none';\n",
              "\n",
              "        async function convertToInteractive(key) {\n",
              "          const element = document.querySelector('#df-92734f33-b30d-4437-9929-008ade0b1e84');\n",
              "          const dataTable =\n",
              "            await google.colab.kernel.invokeFunction('convertToInteractive',\n",
              "                                                     [key], {});\n",
              "          if (!dataTable) return;\n",
              "\n",
              "          const docLinkHtml = 'Like what you see? Visit the ' +\n",
              "            '<a target=\"_blank\" href=https://colab.research.google.com/notebooks/data_table.ipynb>data table notebook</a>'\n",
              "            + ' to learn more about interactive tables.';\n",
              "          element.innerHTML = '';\n",
              "          dataTable['output_type'] = 'display_data';\n",
              "          await google.colab.output.renderOutput(dataTable, element);\n",
              "          const docLink = document.createElement('div');\n",
              "          docLink.innerHTML = docLinkHtml;\n",
              "          element.appendChild(docLink);\n",
              "        }\n",
              "      </script>\n",
              "    </div>\n",
              "  </div>\n",
              "  "
            ]
          },
          "metadata": {},
          "execution_count": 39
        }
      ]
    },
    {
      "cell_type": "markdown",
      "source": [
        "We will use this data to fit the model"
      ],
      "metadata": {
        "id": "RnOTtHPZlC-s"
      }
    },
    {
      "cell_type": "code",
      "source": [
        "xscaled_df = pd.DataFrame(xscaled)"
      ],
      "metadata": {
        "colab": {
          "base_uri": "https://localhost:8080/",
          "height": 17
        },
        "id": "nF4iysdrj-LA",
        "outputId": "f3cb68d3-d5ec-4ac8-f0fd-47ea738b66a3"
      },
      "execution_count": 40,
      "outputs": [
        {
          "output_type": "display_data",
          "data": {
            "text/plain": [
              "<IPython.core.display.Javascript object>"
            ],
            "application/javascript": [
              "\n",
              "        if (window._pyforest_update_imports_cell) { window._pyforest_update_imports_cell('import pandas as pd'); }\n",
              "    "
            ]
          },
          "metadata": {}
        }
      ]
    },
    {
      "cell_type": "markdown",
      "source": [
        "### **Splitting data** to train and split"
      ],
      "metadata": {
        "id": "i_GAH9IMlInW"
      }
    },
    {
      "cell_type": "code",
      "source": [
        "from sklearn.model_selection import train_test_split"
      ],
      "metadata": {
        "id": "vWCPBtBXbuFw"
      },
      "execution_count": 41,
      "outputs": []
    },
    {
      "cell_type": "code",
      "source": [
        "x_train, x_test, y_train, y_test = train_test_split(xscaled_df,y,test_size=0.2,random_state=1)"
      ],
      "metadata": {
        "id": "-n7KnTVz4g60"
      },
      "execution_count": 42,
      "outputs": []
    },
    {
      "cell_type": "code",
      "source": [
        "x_train"
      ],
      "metadata": {
        "colab": {
          "base_uri": "https://localhost:8080/",
          "height": 505
        },
        "id": "nHaWuTzywhXD",
        "outputId": "f8531343-8ce7-40f6-ac08-eddb2f2999ca"
      },
      "execution_count": 43,
      "outputs": [
        {
          "output_type": "execute_result",
          "data": {
            "text/plain": [
              "     radius_mean  texture_mean  perimeter_mean  area_mean  smoothness_mean  \\\n",
              "408     1.097064      0.318890        1.063983   0.957925         0.515218   \n",
              "4       1.750297     -1.151816        1.776573   1.826229         0.280372   \n",
              "307    -1.456224     -1.137854       -1.466743  -1.162069        -1.872383   \n",
              "386    -0.544538     -1.209993       -0.543259  -0.548596        -1.087428   \n",
              "404    -0.507616     -1.009865       -0.563442  -0.528403        -0.678938   \n",
              "..           ...           ...             ...        ...              ...   \n",
              "129     1.608290      1.356762        1.582979   1.527599         0.365770   \n",
              "144    -0.959199     -1.005211       -0.976580  -0.852062        -1.311599   \n",
              "72      0.872693      1.217138        0.915698   0.780737         0.764297   \n",
              "235    -0.027632      0.456187       -0.089755  -0.146440        -0.402816   \n",
              "37     -0.311646     -0.202373       -0.385500  -0.372831        -0.464730   \n",
              "\n",
              "     compactness_mean  concavity_mean  concave points_mean  symmetry_mean  \\\n",
              "408          0.493857        0.392979             1.014241       0.658562   \n",
              "4            0.539340        1.371011             1.428493      -0.009560   \n",
              "307         -1.386888       -1.068658            -1.172263      -0.086230   \n",
              "386         -0.494842       -0.256238            -0.608200      -0.604664   \n",
              "404         -1.111144       -0.850089            -0.732011      -0.878485   \n",
              "..                ...             ...                  ...            ...   \n",
              "129          1.033974        2.080367             1.701909       1.425260   \n",
              "144         -1.003499       -0.832260            -1.058692      -1.506447   \n",
              "72           1.490705        1.009428             0.787254       0.421251   \n",
              "235         -0.661236       -0.931319            -0.772766      -1.075636   \n",
              "37          -1.263703       -0.793214            -0.507861      -1.258183   \n",
              "\n",
              "     fractal_dimension_mean  ...  radius_worst  texture_worst  \\\n",
              "408               -0.298776  ...      0.996235      -0.043516   \n",
              "4                 -0.562450  ...      1.298575      -1.466770   \n",
              "307                0.784274  ...     -1.360572      -0.913101   \n",
              "386               -0.178279  ...     -0.650071      -1.040120   \n",
              "404               -0.810531  ...     -0.639717      -1.437458   \n",
              "..                      ...  ...           ...            ...   \n",
              "129               -0.236401  ...      1.317213       1.286918   \n",
              "144               -0.838883  ...     -0.894429      -0.807253   \n",
              "72                 0.293783  ...      1.460100       1.326001   \n",
              "235               -0.630495  ...     -0.194490       0.749534   \n",
              "37                -0.590802  ...     -0.614867      -0.466909   \n",
              "\n",
              "     perimeter_worst  area_worst  smoothness_worst  compactness_worst  \\\n",
              "408         0.918559    0.823436          0.693984           0.758501   \n",
              "4           1.338539    1.220724          0.220556          -0.313395   \n",
              "307        -1.380908   -1.046104         -1.479838          -1.284653   \n",
              "386        -0.584136   -0.616470         -1.304933          -0.071025   \n",
              "404        -0.689578   -0.610845         -1.208494          -1.188468   \n",
              "..               ...         ...               ...                ...   \n",
              "129         1.234289    1.245335         -0.213419           0.838655   \n",
              "144        -0.877825   -0.772397         -1.085753          -0.839482   \n",
              "72          1.320668    1.407063          1.145493           3.086136   \n",
              "235        -0.267811   -0.290202         -0.160816          -0.655002   \n",
              "37         -0.679153   -0.588344         -1.549975          -1.323648   \n",
              "\n",
              "     concavity_worst  concave points_worst  symmetry_worst  \\\n",
              "408         0.277832              1.260668        0.257622   \n",
              "4           0.613179              0.729259       -0.868353   \n",
              "307        -1.235211             -1.533565        0.145995   \n",
              "386         0.169888             -0.353352       -0.361988   \n",
              "404        -1.069745             -1.015252       -0.975127   \n",
              "..               ...                   ...             ...   \n",
              "129         1.415804              0.892184        0.653979   \n",
              "144        -0.837832             -1.225379       -0.971891   \n",
              "72          1.844223              1.146468        0.666921   \n",
              "235        -1.006897             -0.532569       -1.091607   \n",
              "37         -1.073966             -0.981753       -1.478256   \n",
              "\n",
              "     fractal_dimension_worst  \n",
              "408                 0.060081  \n",
              "4                  -0.397100  \n",
              "307                -0.327276  \n",
              "386                 0.237966  \n",
              "404                -1.341385  \n",
              "..                       ...  \n",
              "129                 0.039023  \n",
              "144                -0.900829  \n",
              "72                  2.768252  \n",
              "235                -0.430903  \n",
              "37                 -1.233324  \n",
              "\n",
              "[455 rows x 30 columns]"
            ],
            "text/html": [
              "\n",
              "  <div id=\"df-61008874-c1c6-4e4b-8d22-80b6f842b0a6\">\n",
              "    <div class=\"colab-df-container\">\n",
              "      <div>\n",
              "<style scoped>\n",
              "    .dataframe tbody tr th:only-of-type {\n",
              "        vertical-align: middle;\n",
              "    }\n",
              "\n",
              "    .dataframe tbody tr th {\n",
              "        vertical-align: top;\n",
              "    }\n",
              "\n",
              "    .dataframe thead th {\n",
              "        text-align: right;\n",
              "    }\n",
              "</style>\n",
              "<table border=\"1\" class=\"dataframe\">\n",
              "  <thead>\n",
              "    <tr style=\"text-align: right;\">\n",
              "      <th></th>\n",
              "      <th>radius_mean</th>\n",
              "      <th>texture_mean</th>\n",
              "      <th>perimeter_mean</th>\n",
              "      <th>area_mean</th>\n",
              "      <th>smoothness_mean</th>\n",
              "      <th>compactness_mean</th>\n",
              "      <th>concavity_mean</th>\n",
              "      <th>concave points_mean</th>\n",
              "      <th>symmetry_mean</th>\n",
              "      <th>fractal_dimension_mean</th>\n",
              "      <th>...</th>\n",
              "      <th>radius_worst</th>\n",
              "      <th>texture_worst</th>\n",
              "      <th>perimeter_worst</th>\n",
              "      <th>area_worst</th>\n",
              "      <th>smoothness_worst</th>\n",
              "      <th>compactness_worst</th>\n",
              "      <th>concavity_worst</th>\n",
              "      <th>concave points_worst</th>\n",
              "      <th>symmetry_worst</th>\n",
              "      <th>fractal_dimension_worst</th>\n",
              "    </tr>\n",
              "  </thead>\n",
              "  <tbody>\n",
              "    <tr>\n",
              "      <th>408</th>\n",
              "      <td>1.097064</td>\n",
              "      <td>0.318890</td>\n",
              "      <td>1.063983</td>\n",
              "      <td>0.957925</td>\n",
              "      <td>0.515218</td>\n",
              "      <td>0.493857</td>\n",
              "      <td>0.392979</td>\n",
              "      <td>1.014241</td>\n",
              "      <td>0.658562</td>\n",
              "      <td>-0.298776</td>\n",
              "      <td>...</td>\n",
              "      <td>0.996235</td>\n",
              "      <td>-0.043516</td>\n",
              "      <td>0.918559</td>\n",
              "      <td>0.823436</td>\n",
              "      <td>0.693984</td>\n",
              "      <td>0.758501</td>\n",
              "      <td>0.277832</td>\n",
              "      <td>1.260668</td>\n",
              "      <td>0.257622</td>\n",
              "      <td>0.060081</td>\n",
              "    </tr>\n",
              "    <tr>\n",
              "      <th>4</th>\n",
              "      <td>1.750297</td>\n",
              "      <td>-1.151816</td>\n",
              "      <td>1.776573</td>\n",
              "      <td>1.826229</td>\n",
              "      <td>0.280372</td>\n",
              "      <td>0.539340</td>\n",
              "      <td>1.371011</td>\n",
              "      <td>1.428493</td>\n",
              "      <td>-0.009560</td>\n",
              "      <td>-0.562450</td>\n",
              "      <td>...</td>\n",
              "      <td>1.298575</td>\n",
              "      <td>-1.466770</td>\n",
              "      <td>1.338539</td>\n",
              "      <td>1.220724</td>\n",
              "      <td>0.220556</td>\n",
              "      <td>-0.313395</td>\n",
              "      <td>0.613179</td>\n",
              "      <td>0.729259</td>\n",
              "      <td>-0.868353</td>\n",
              "      <td>-0.397100</td>\n",
              "    </tr>\n",
              "    <tr>\n",
              "      <th>307</th>\n",
              "      <td>-1.456224</td>\n",
              "      <td>-1.137854</td>\n",
              "      <td>-1.466743</td>\n",
              "      <td>-1.162069</td>\n",
              "      <td>-1.872383</td>\n",
              "      <td>-1.386888</td>\n",
              "      <td>-1.068658</td>\n",
              "      <td>-1.172263</td>\n",
              "      <td>-0.086230</td>\n",
              "      <td>0.784274</td>\n",
              "      <td>...</td>\n",
              "      <td>-1.360572</td>\n",
              "      <td>-0.913101</td>\n",
              "      <td>-1.380908</td>\n",
              "      <td>-1.046104</td>\n",
              "      <td>-1.479838</td>\n",
              "      <td>-1.284653</td>\n",
              "      <td>-1.235211</td>\n",
              "      <td>-1.533565</td>\n",
              "      <td>0.145995</td>\n",
              "      <td>-0.327276</td>\n",
              "    </tr>\n",
              "    <tr>\n",
              "      <th>386</th>\n",
              "      <td>-0.544538</td>\n",
              "      <td>-1.209993</td>\n",
              "      <td>-0.543259</td>\n",
              "      <td>-0.548596</td>\n",
              "      <td>-1.087428</td>\n",
              "      <td>-0.494842</td>\n",
              "      <td>-0.256238</td>\n",
              "      <td>-0.608200</td>\n",
              "      <td>-0.604664</td>\n",
              "      <td>-0.178279</td>\n",
              "      <td>...</td>\n",
              "      <td>-0.650071</td>\n",
              "      <td>-1.040120</td>\n",
              "      <td>-0.584136</td>\n",
              "      <td>-0.616470</td>\n",
              "      <td>-1.304933</td>\n",
              "      <td>-0.071025</td>\n",
              "      <td>0.169888</td>\n",
              "      <td>-0.353352</td>\n",
              "      <td>-0.361988</td>\n",
              "      <td>0.237966</td>\n",
              "    </tr>\n",
              "    <tr>\n",
              "      <th>404</th>\n",
              "      <td>-0.507616</td>\n",
              "      <td>-1.009865</td>\n",
              "      <td>-0.563442</td>\n",
              "      <td>-0.528403</td>\n",
              "      <td>-0.678938</td>\n",
              "      <td>-1.111144</td>\n",
              "      <td>-0.850089</td>\n",
              "      <td>-0.732011</td>\n",
              "      <td>-0.878485</td>\n",
              "      <td>-0.810531</td>\n",
              "      <td>...</td>\n",
              "      <td>-0.639717</td>\n",
              "      <td>-1.437458</td>\n",
              "      <td>-0.689578</td>\n",
              "      <td>-0.610845</td>\n",
              "      <td>-1.208494</td>\n",
              "      <td>-1.188468</td>\n",
              "      <td>-1.069745</td>\n",
              "      <td>-1.015252</td>\n",
              "      <td>-0.975127</td>\n",
              "      <td>-1.341385</td>\n",
              "    </tr>\n",
              "    <tr>\n",
              "      <th>...</th>\n",
              "      <td>...</td>\n",
              "      <td>...</td>\n",
              "      <td>...</td>\n",
              "      <td>...</td>\n",
              "      <td>...</td>\n",
              "      <td>...</td>\n",
              "      <td>...</td>\n",
              "      <td>...</td>\n",
              "      <td>...</td>\n",
              "      <td>...</td>\n",
              "      <td>...</td>\n",
              "      <td>...</td>\n",
              "      <td>...</td>\n",
              "      <td>...</td>\n",
              "      <td>...</td>\n",
              "      <td>...</td>\n",
              "      <td>...</td>\n",
              "      <td>...</td>\n",
              "      <td>...</td>\n",
              "      <td>...</td>\n",
              "      <td>...</td>\n",
              "    </tr>\n",
              "    <tr>\n",
              "      <th>129</th>\n",
              "      <td>1.608290</td>\n",
              "      <td>1.356762</td>\n",
              "      <td>1.582979</td>\n",
              "      <td>1.527599</td>\n",
              "      <td>0.365770</td>\n",
              "      <td>1.033974</td>\n",
              "      <td>2.080367</td>\n",
              "      <td>1.701909</td>\n",
              "      <td>1.425260</td>\n",
              "      <td>-0.236401</td>\n",
              "      <td>...</td>\n",
              "      <td>1.317213</td>\n",
              "      <td>1.286918</td>\n",
              "      <td>1.234289</td>\n",
              "      <td>1.245335</td>\n",
              "      <td>-0.213419</td>\n",
              "      <td>0.838655</td>\n",
              "      <td>1.415804</td>\n",
              "      <td>0.892184</td>\n",
              "      <td>0.653979</td>\n",
              "      <td>0.039023</td>\n",
              "    </tr>\n",
              "    <tr>\n",
              "      <th>144</th>\n",
              "      <td>-0.959199</td>\n",
              "      <td>-1.005211</td>\n",
              "      <td>-0.976580</td>\n",
              "      <td>-0.852062</td>\n",
              "      <td>-1.311599</td>\n",
              "      <td>-1.003499</td>\n",
              "      <td>-0.832260</td>\n",
              "      <td>-1.058692</td>\n",
              "      <td>-1.506447</td>\n",
              "      <td>-0.838883</td>\n",
              "      <td>...</td>\n",
              "      <td>-0.894429</td>\n",
              "      <td>-0.807253</td>\n",
              "      <td>-0.877825</td>\n",
              "      <td>-0.772397</td>\n",
              "      <td>-1.085753</td>\n",
              "      <td>-0.839482</td>\n",
              "      <td>-0.837832</td>\n",
              "      <td>-1.225379</td>\n",
              "      <td>-0.971891</td>\n",
              "      <td>-0.900829</td>\n",
              "    </tr>\n",
              "    <tr>\n",
              "      <th>72</th>\n",
              "      <td>0.872693</td>\n",
              "      <td>1.217138</td>\n",
              "      <td>0.915698</td>\n",
              "      <td>0.780737</td>\n",
              "      <td>0.764297</td>\n",
              "      <td>1.490705</td>\n",
              "      <td>1.009428</td>\n",
              "      <td>0.787254</td>\n",
              "      <td>0.421251</td>\n",
              "      <td>0.293783</td>\n",
              "      <td>...</td>\n",
              "      <td>1.460100</td>\n",
              "      <td>1.326001</td>\n",
              "      <td>1.320668</td>\n",
              "      <td>1.407063</td>\n",
              "      <td>1.145493</td>\n",
              "      <td>3.086136</td>\n",
              "      <td>1.844223</td>\n",
              "      <td>1.146468</td>\n",
              "      <td>0.666921</td>\n",
              "      <td>2.768252</td>\n",
              "    </tr>\n",
              "    <tr>\n",
              "      <th>235</th>\n",
              "      <td>-0.027632</td>\n",
              "      <td>0.456187</td>\n",
              "      <td>-0.089755</td>\n",
              "      <td>-0.146440</td>\n",
              "      <td>-0.402816</td>\n",
              "      <td>-0.661236</td>\n",
              "      <td>-0.931319</td>\n",
              "      <td>-0.772766</td>\n",
              "      <td>-1.075636</td>\n",
              "      <td>-0.630495</td>\n",
              "      <td>...</td>\n",
              "      <td>-0.194490</td>\n",
              "      <td>0.749534</td>\n",
              "      <td>-0.267811</td>\n",
              "      <td>-0.290202</td>\n",
              "      <td>-0.160816</td>\n",
              "      <td>-0.655002</td>\n",
              "      <td>-1.006897</td>\n",
              "      <td>-0.532569</td>\n",
              "      <td>-1.091607</td>\n",
              "      <td>-0.430903</td>\n",
              "    </tr>\n",
              "    <tr>\n",
              "      <th>37</th>\n",
              "      <td>-0.311646</td>\n",
              "      <td>-0.202373</td>\n",
              "      <td>-0.385500</td>\n",
              "      <td>-0.372831</td>\n",
              "      <td>-0.464730</td>\n",
              "      <td>-1.263703</td>\n",
              "      <td>-0.793214</td>\n",
              "      <td>-0.507861</td>\n",
              "      <td>-1.258183</td>\n",
              "      <td>-0.590802</td>\n",
              "      <td>...</td>\n",
              "      <td>-0.614867</td>\n",
              "      <td>-0.466909</td>\n",
              "      <td>-0.679153</td>\n",
              "      <td>-0.588344</td>\n",
              "      <td>-1.549975</td>\n",
              "      <td>-1.323648</td>\n",
              "      <td>-1.073966</td>\n",
              "      <td>-0.981753</td>\n",
              "      <td>-1.478256</td>\n",
              "      <td>-1.233324</td>\n",
              "    </tr>\n",
              "  </tbody>\n",
              "</table>\n",
              "<p>455 rows × 30 columns</p>\n",
              "</div>\n",
              "      <button class=\"colab-df-convert\" onclick=\"convertToInteractive('df-61008874-c1c6-4e4b-8d22-80b6f842b0a6')\"\n",
              "              title=\"Convert this dataframe to an interactive table.\"\n",
              "              style=\"display:none;\">\n",
              "        \n",
              "  <svg xmlns=\"http://www.w3.org/2000/svg\" height=\"24px\"viewBox=\"0 0 24 24\"\n",
              "       width=\"24px\">\n",
              "    <path d=\"M0 0h24v24H0V0z\" fill=\"none\"/>\n",
              "    <path d=\"M18.56 5.44l.94 2.06.94-2.06 2.06-.94-2.06-.94-.94-2.06-.94 2.06-2.06.94zm-11 1L8.5 8.5l.94-2.06 2.06-.94-2.06-.94L8.5 2.5l-.94 2.06-2.06.94zm10 10l.94 2.06.94-2.06 2.06-.94-2.06-.94-.94-2.06-.94 2.06-2.06.94z\"/><path d=\"M17.41 7.96l-1.37-1.37c-.4-.4-.92-.59-1.43-.59-.52 0-1.04.2-1.43.59L10.3 9.45l-7.72 7.72c-.78.78-.78 2.05 0 2.83L4 21.41c.39.39.9.59 1.41.59.51 0 1.02-.2 1.41-.59l7.78-7.78 2.81-2.81c.8-.78.8-2.07 0-2.86zM5.41 20L4 18.59l7.72-7.72 1.47 1.35L5.41 20z\"/>\n",
              "  </svg>\n",
              "      </button>\n",
              "      \n",
              "  <style>\n",
              "    .colab-df-container {\n",
              "      display:flex;\n",
              "      flex-wrap:wrap;\n",
              "      gap: 12px;\n",
              "    }\n",
              "\n",
              "    .colab-df-convert {\n",
              "      background-color: #E8F0FE;\n",
              "      border: none;\n",
              "      border-radius: 50%;\n",
              "      cursor: pointer;\n",
              "      display: none;\n",
              "      fill: #1967D2;\n",
              "      height: 32px;\n",
              "      padding: 0 0 0 0;\n",
              "      width: 32px;\n",
              "    }\n",
              "\n",
              "    .colab-df-convert:hover {\n",
              "      background-color: #E2EBFA;\n",
              "      box-shadow: 0px 1px 2px rgba(60, 64, 67, 0.3), 0px 1px 3px 1px rgba(60, 64, 67, 0.15);\n",
              "      fill: #174EA6;\n",
              "    }\n",
              "\n",
              "    [theme=dark] .colab-df-convert {\n",
              "      background-color: #3B4455;\n",
              "      fill: #D2E3FC;\n",
              "    }\n",
              "\n",
              "    [theme=dark] .colab-df-convert:hover {\n",
              "      background-color: #434B5C;\n",
              "      box-shadow: 0px 1px 3px 1px rgba(0, 0, 0, 0.15);\n",
              "      filter: drop-shadow(0px 1px 2px rgba(0, 0, 0, 0.3));\n",
              "      fill: #FFFFFF;\n",
              "    }\n",
              "  </style>\n",
              "\n",
              "      <script>\n",
              "        const buttonEl =\n",
              "          document.querySelector('#df-61008874-c1c6-4e4b-8d22-80b6f842b0a6 button.colab-df-convert');\n",
              "        buttonEl.style.display =\n",
              "          google.colab.kernel.accessAllowed ? 'block' : 'none';\n",
              "\n",
              "        async function convertToInteractive(key) {\n",
              "          const element = document.querySelector('#df-61008874-c1c6-4e4b-8d22-80b6f842b0a6');\n",
              "          const dataTable =\n",
              "            await google.colab.kernel.invokeFunction('convertToInteractive',\n",
              "                                                     [key], {});\n",
              "          if (!dataTable) return;\n",
              "\n",
              "          const docLinkHtml = 'Like what you see? Visit the ' +\n",
              "            '<a target=\"_blank\" href=https://colab.research.google.com/notebooks/data_table.ipynb>data table notebook</a>'\n",
              "            + ' to learn more about interactive tables.';\n",
              "          element.innerHTML = '';\n",
              "          dataTable['output_type'] = 'display_data';\n",
              "          await google.colab.output.renderOutput(dataTable, element);\n",
              "          const docLink = document.createElement('div');\n",
              "          docLink.innerHTML = docLinkHtml;\n",
              "          element.appendChild(docLink);\n",
              "        }\n",
              "      </script>\n",
              "    </div>\n",
              "  </div>\n",
              "  "
            ]
          },
          "metadata": {},
          "execution_count": 43
        }
      ]
    },
    {
      "cell_type": "markdown",
      "source": [
        "### **Learning**\n",
        "\n",
        "Finally import the KNN algorithm, and we actually are predicting two classes. \n",
        "\n",
        "If we are dealing with regression problems we can use **KNeighborsRegressor** algorithm.\n",
        "\n",
        "We actually we can use Kneighbors for **classification** and **regression** problems"
      ],
      "metadata": {
        "id": "aq_3-n5ClMFh"
      }
    },
    {
      "cell_type": "markdown",
      "source": [
        "So its similar to linear regression algorithm, Naive Bayes:\n",
        "\n",
        "1. Import the algorithm\n",
        "\n",
        "2. Create the variable, instance of algorithm\n",
        "\n",
        "3. **Fit** instanced algorithm on training data\n",
        "\n",
        "4. **Predict** on test data\n",
        "\n",
        "5. Check **score** - accuracy"
      ],
      "metadata": {
        "id": "yunYjtY4o1We"
      }
    },
    {
      "cell_type": "markdown",
      "source": [
        "1. Import the algorithm"
      ],
      "metadata": {
        "id": "QLSziBZspsU0"
      }
    },
    {
      "cell_type": "code",
      "source": [
        "from sklearn.neighbors import KNeighborsClassifier"
      ],
      "metadata": {
        "id": "S-10Zo3Mb0pN"
      },
      "execution_count": 44,
      "outputs": []
    },
    {
      "cell_type": "markdown",
      "source": [
        "2. Create the variable, instance of algorithm"
      ],
      "metadata": {
        "id": "h7NNxyGqqAbG"
      }
    },
    {
      "cell_type": "code",
      "source": [
        "KNN = KNeighborsClassifier(n_neighbors=5, weights='distance')"
      ],
      "metadata": {
        "id": "obDF5UBBm-AP"
      },
      "execution_count": 45,
      "outputs": []
    },
    {
      "cell_type": "markdown",
      "source": [
        "3. Fit instanced algorithm on training data"
      ],
      "metadata": {
        "id": "tLjAISX-w5qo"
      }
    },
    {
      "cell_type": "code",
      "source": [
        "KNN.fit(x_train,y_train)"
      ],
      "metadata": {
        "colab": {
          "base_uri": "https://localhost:8080/"
        },
        "id": "tgXmC1dcqC8E",
        "outputId": "7aa3528b-dc04-4895-bb7b-af05898c9f85"
      },
      "execution_count": 46,
      "outputs": [
        {
          "output_type": "execute_result",
          "data": {
            "text/plain": [
              "KNeighborsClassifier(weights='distance')"
            ]
          },
          "metadata": {},
          "execution_count": 46
        }
      ]
    },
    {
      "cell_type": "markdown",
      "source": [
        "4. Predict on test data"
      ],
      "metadata": {
        "id": "-_YdQBi9x5PI"
      }
    },
    {
      "cell_type": "code",
      "source": [
        "prediction = KNN.predict(x_test)\n",
        "prediction"
      ],
      "metadata": {
        "colab": {
          "base_uri": "https://localhost:8080/"
        },
        "id": "_52_yQIfv2y2",
        "outputId": "715bb80d-56a8-44cc-af04-23737553746e"
      },
      "execution_count": 47,
      "outputs": [
        {
          "output_type": "execute_result",
          "data": {
            "text/plain": [
              "array(['B', 'M', 'B', 'M', 'B', 'M', 'M', 'M', 'B', 'B', 'B', 'M', 'M',\n",
              "       'B', 'B', 'B', 'B', 'B', 'B', 'M', 'B', 'B', 'M', 'B', 'M', 'B',\n",
              "       'B', 'M', 'M', 'M', 'M', 'B', 'M', 'M', 'B', 'B', 'M', 'B', 'B',\n",
              "       'B', 'B', 'B', 'B', 'B', 'B', 'M', 'B', 'B', 'B', 'M', 'M', 'M',\n",
              "       'B', 'B', 'B', 'B', 'B', 'M', 'B', 'B', 'B', 'M', 'B', 'B', 'B',\n",
              "       'B', 'B', 'M', 'B', 'B', 'B', 'B', 'B', 'M', 'B', 'M', 'B', 'B',\n",
              "       'B', 'M', 'B', 'M', 'B', 'M', 'B', 'B', 'M', 'B', 'M', 'B', 'B',\n",
              "       'M', 'B', 'B', 'M', 'M', 'B', 'B', 'B', 'B', 'B', 'B', 'B', 'B',\n",
              "       'B', 'B', 'B', 'B', 'M', 'M', 'M', 'B', 'B', 'B'], dtype=object)"
            ]
          },
          "metadata": {},
          "execution_count": 47
        }
      ]
    },
    {
      "cell_type": "markdown",
      "source": [
        "5. Check accuracy"
      ],
      "metadata": {
        "id": "96bXVJGH0BlQ"
      }
    },
    {
      "cell_type": "code",
      "source": [
        "KNN.score(x_test, y_test)"
      ],
      "metadata": {
        "colab": {
          "base_uri": "https://localhost:8080/"
        },
        "id": "jxOhOHpmy4RQ",
        "outputId": "1331ced8-1c7b-4e6f-d66b-ecf08844520a"
      },
      "execution_count": 48,
      "outputs": [
        {
          "output_type": "execute_result",
          "data": {
            "text/plain": [
              "0.956140350877193"
            ]
          },
          "metadata": {},
          "execution_count": 48
        }
      ]
    },
    {
      "cell_type": "markdown",
      "source": [
        "# Confusion matrix"
      ],
      "metadata": {
        "id": "yr8K2fG20f4t"
      }
    },
    {
      "cell_type": "code",
      "source": [
        "cm = metrics.confusion_matrix(y_test, prediction, labels=['M','B'])\n",
        "cm"
      ],
      "metadata": {
        "colab": {
          "base_uri": "https://localhost:8080/",
          "height": 52
        },
        "id": "o5ef9veLeq2L",
        "outputId": "4ba9700a-34a5-49a3-b269-225a9045fa7f"
      },
      "execution_count": 49,
      "outputs": [
        {
          "output_type": "display_data",
          "data": {
            "text/plain": [
              "<IPython.core.display.Javascript object>"
            ],
            "application/javascript": [
              "\n",
              "        if (window._pyforest_update_imports_cell) { window._pyforest_update_imports_cell('import pandas as pd\\nfrom sklearn import metrics'); }\n",
              "    "
            ]
          },
          "metadata": {}
        },
        {
          "output_type": "execute_result",
          "data": {
            "text/plain": [
              "array([[37,  5],\n",
              "       [ 0, 72]])"
            ]
          },
          "metadata": {},
          "execution_count": 49
        }
      ]
    },
    {
      "cell_type": "code",
      "source": [
        "from sklearn import metrics\n",
        "\n",
        "cm = metrics.confusion_matrix(y_test, prediction, labels=['M','B'])\n",
        "\n",
        "df_cm = pd.DataFrame(cm, index=[i for i in ['M','B']], columns=[i for i in ['Predicted M', 'Predicted B']])\n",
        "\n",
        "sns.heatmap(df_cm, annot=True)\n",
        "\n",
        "plt.show()"
      ],
      "metadata": {
        "colab": {
          "base_uri": "https://localhost:8080/",
          "height": 265
        },
        "id": "YUbwxYcX0eT7",
        "outputId": "174b9e9c-6485-45f3-f6d4-0d337dc3d200"
      },
      "execution_count": 50,
      "outputs": [
        {
          "output_type": "display_data",
          "data": {
            "text/plain": [
              "<IPython.core.display.Javascript object>"
            ],
            "application/javascript": [
              "\n",
              "        if (window._pyforest_update_imports_cell) { window._pyforest_update_imports_cell('import pandas as pd\\nfrom sklearn import metrics'); }\n",
              "    "
            ]
          },
          "metadata": {}
        },
        {
          "output_type": "display_data",
          "data": {
            "text/plain": [
              "<IPython.core.display.Javascript object>"
            ],
            "application/javascript": [
              "\n",
              "        if (window._pyforest_update_imports_cell) { window._pyforest_update_imports_cell('import pandas as pd\\nimport seaborn as sns\\nfrom sklearn import metrics'); }\n",
              "    "
            ]
          },
          "metadata": {}
        },
        {
          "output_type": "display_data",
          "data": {
            "text/plain": [
              "<IPython.core.display.Javascript object>"
            ],
            "application/javascript": [
              "\n",
              "        if (window._pyforest_update_imports_cell) { window._pyforest_update_imports_cell('import matplotlib.pyplot as plt\\nimport pandas as pd\\nimport seaborn as sns\\nfrom sklearn import metrics'); }\n",
              "    "
            ]
          },
          "metadata": {}
        },
        {
          "output_type": "display_data",
          "data": {
            "text/plain": [
              "<Figure size 432x288 with 2 Axes>"
            ],
            "image/png": "[encoded data removed]"
          },
          "metadata": {
            "needs_background": "light"
          }
        }
      ]
    }
  ]
}